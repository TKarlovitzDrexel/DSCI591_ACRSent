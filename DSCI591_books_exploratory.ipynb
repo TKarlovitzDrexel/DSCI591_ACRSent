{
 "cells": [
  {
   "cell_type": "code",
   "execution_count": 1,
   "metadata": {},
   "outputs": [],
   "source": [
    "import pandas as pd\n",
    "import numpy as np"
   ]
  },
  {
   "cell_type": "markdown",
   "metadata": {},
   "source": [
    "One major thing that needs to be figured out for this dataset is how to read it all...It is over 10 million lines long. I want to explore ways to read in chunks analyze that data then read in another chunk and create a visualization that uses all the data (or at least most of it) "
   ]
  },
  {
   "cell_type": "code",
   "execution_count": 2,
   "metadata": {},
   "outputs": [
    {
     "name": "stderr",
     "output_type": "stream",
     "text": [
      "b'Skipping line 3524: expected 15 fields, saw 22\\nSkipping line 5282: expected 15 fields, saw 22\\nSkipping line 20478: expected 15 fields, saw 22\\nSkipping line 25895: expected 15 fields, saw 22\\nSkipping line 27016: expected 15 fields, saw 22\\nSkipping line 59798: expected 15 fields, saw 22\\n'\n",
      "b'Skipping line 69198: expected 15 fields, saw 22\\nSkipping line 71953: expected 15 fields, saw 22\\nSkipping line 78720: expected 15 fields, saw 22\\nSkipping line 81300: expected 15 fields, saw 22\\nSkipping line 87683: expected 15 fields, saw 22\\nSkipping line 90516: expected 15 fields, saw 22\\nSkipping line 91147: expected 15 fields, saw 22\\n'\n"
     ]
    }
   ],
   "source": [
    "# Line below isn't really feasible to run since the file is over 10 million lines long \n",
    "#books00_df = pd.read_csv('amazon_reviews_us_Books_v1_00.tsv', sep='\\t', error_bad_lines=False)\n",
    "\n",
    "# Broke the data into a smaller set to work with for now\n",
    "books00_df = pd.read_csv('books_00_100k.tsv', sep='\\t', error_bad_lines=False)"
   ]
  },
  {
   "cell_type": "markdown",
   "metadata": {},
   "source": [
    "error_bad_lines = False will remove any lines that have more entries per row than expected. This is the first step in the cleaning process "
   ]
  },
  {
   "cell_type": "code",
   "execution_count": 3,
   "metadata": {},
   "outputs": [
    {
     "data": {
      "text/html": [
       "<div>\n",
       "<style scoped>\n",
       "    .dataframe tbody tr th:only-of-type {\n",
       "        vertical-align: middle;\n",
       "    }\n",
       "\n",
       "    .dataframe tbody tr th {\n",
       "        vertical-align: top;\n",
       "    }\n",
       "\n",
       "    .dataframe thead th {\n",
       "        text-align: right;\n",
       "    }\n",
       "</style>\n",
       "<table border=\"1\" class=\"dataframe\">\n",
       "  <thead>\n",
       "    <tr style=\"text-align: right;\">\n",
       "      <th></th>\n",
       "      <th>marketplace</th>\n",
       "      <th>customer_id</th>\n",
       "      <th>review_id</th>\n",
       "      <th>product_id</th>\n",
       "      <th>product_parent</th>\n",
       "      <th>product_title</th>\n",
       "      <th>product_category</th>\n",
       "      <th>star_rating</th>\n",
       "      <th>helpful_votes</th>\n",
       "      <th>total_votes</th>\n",
       "      <th>vine</th>\n",
       "      <th>verified_purchase</th>\n",
       "      <th>review_headline</th>\n",
       "      <th>review_body</th>\n",
       "      <th>review_date</th>\n",
       "    </tr>\n",
       "  </thead>\n",
       "  <tbody>\n",
       "    <tr>\n",
       "      <th>0</th>\n",
       "      <td>US</td>\n",
       "      <td>25933450</td>\n",
       "      <td>RJOVP071AVAJO</td>\n",
       "      <td>0439873800</td>\n",
       "      <td>84656342</td>\n",
       "      <td>There Was an Old Lady Who Swallowed a Shell!</td>\n",
       "      <td>Books</td>\n",
       "      <td>5</td>\n",
       "      <td>0.0</td>\n",
       "      <td>0.0</td>\n",
       "      <td>N</td>\n",
       "      <td>Y</td>\n",
       "      <td>Five Stars</td>\n",
       "      <td>I love it and so does my students!</td>\n",
       "      <td>2015-08-31</td>\n",
       "    </tr>\n",
       "    <tr>\n",
       "      <th>1</th>\n",
       "      <td>US</td>\n",
       "      <td>1801372</td>\n",
       "      <td>R1ORGBETCDW3AI</td>\n",
       "      <td>1623953553</td>\n",
       "      <td>729938122</td>\n",
       "      <td>I Saw a Friend</td>\n",
       "      <td>Books</td>\n",
       "      <td>5</td>\n",
       "      <td>0.0</td>\n",
       "      <td>0.0</td>\n",
       "      <td>N</td>\n",
       "      <td>Y</td>\n",
       "      <td>Please buy \"I Saw a Friend\"! Your children wil...</td>\n",
       "      <td>My wife and I ordered 2 books and gave them as...</td>\n",
       "      <td>2015-08-31</td>\n",
       "    </tr>\n",
       "    <tr>\n",
       "      <th>2</th>\n",
       "      <td>US</td>\n",
       "      <td>5782091</td>\n",
       "      <td>R7TNRFQAOUTX5</td>\n",
       "      <td>142151981X</td>\n",
       "      <td>678139048</td>\n",
       "      <td>Black Lagoon, Vol. 6</td>\n",
       "      <td>Books</td>\n",
       "      <td>5</td>\n",
       "      <td>0.0</td>\n",
       "      <td>0.0</td>\n",
       "      <td>N</td>\n",
       "      <td>Y</td>\n",
       "      <td>Shipped fast.</td>\n",
       "      <td>Great book just like all the others in the ser...</td>\n",
       "      <td>2015-08-31</td>\n",
       "    </tr>\n",
       "    <tr>\n",
       "      <th>3</th>\n",
       "      <td>US</td>\n",
       "      <td>32715830</td>\n",
       "      <td>R2GANXKDIFZ6OI</td>\n",
       "      <td>014241543X</td>\n",
       "      <td>712432151</td>\n",
       "      <td>If I Stay</td>\n",
       "      <td>Books</td>\n",
       "      <td>5</td>\n",
       "      <td>0.0</td>\n",
       "      <td>0.0</td>\n",
       "      <td>N</td>\n",
       "      <td>N</td>\n",
       "      <td>Five Stars</td>\n",
       "      <td>So beautiful</td>\n",
       "      <td>2015-08-31</td>\n",
       "    </tr>\n",
       "    <tr>\n",
       "      <th>4</th>\n",
       "      <td>US</td>\n",
       "      <td>14005703</td>\n",
       "      <td>R2NYB6C3R8LVN6</td>\n",
       "      <td>1604600527</td>\n",
       "      <td>800572372</td>\n",
       "      <td>Stars 'N Strips Forever</td>\n",
       "      <td>Books</td>\n",
       "      <td>5</td>\n",
       "      <td>2.0</td>\n",
       "      <td>2.0</td>\n",
       "      <td>N</td>\n",
       "      <td>Y</td>\n",
       "      <td>Five Stars</td>\n",
       "      <td>Enjoyed the author's story and his quilts are ...</td>\n",
       "      <td>2015-08-31</td>\n",
       "    </tr>\n",
       "  </tbody>\n",
       "</table>\n",
       "</div>"
      ],
      "text/plain": [
       "  marketplace  customer_id       review_id  product_id  product_parent  \\\n",
       "0          US     25933450   RJOVP071AVAJO  0439873800        84656342   \n",
       "1          US      1801372  R1ORGBETCDW3AI  1623953553       729938122   \n",
       "2          US      5782091   R7TNRFQAOUTX5  142151981X       678139048   \n",
       "3          US     32715830  R2GANXKDIFZ6OI  014241543X       712432151   \n",
       "4          US     14005703  R2NYB6C3R8LVN6  1604600527       800572372   \n",
       "\n",
       "                                  product_title product_category star_rating  \\\n",
       "0  There Was an Old Lady Who Swallowed a Shell!            Books           5   \n",
       "1                                I Saw a Friend            Books           5   \n",
       "2                          Black Lagoon, Vol. 6            Books           5   \n",
       "3                                     If I Stay            Books           5   \n",
       "4                       Stars 'N Strips Forever            Books           5   \n",
       "\n",
       "   helpful_votes  total_votes vine verified_purchase  \\\n",
       "0            0.0          0.0    N                 Y   \n",
       "1            0.0          0.0    N                 Y   \n",
       "2            0.0          0.0    N                 Y   \n",
       "3            0.0          0.0    N                 N   \n",
       "4            2.0          2.0    N                 Y   \n",
       "\n",
       "                                     review_headline  \\\n",
       "0                                         Five Stars   \n",
       "1  Please buy \"I Saw a Friend\"! Your children wil...   \n",
       "2                                      Shipped fast.   \n",
       "3                                         Five Stars   \n",
       "4                                         Five Stars   \n",
       "\n",
       "                                         review_body review_date  \n",
       "0                 I love it and so does my students!  2015-08-31  \n",
       "1  My wife and I ordered 2 books and gave them as...  2015-08-31  \n",
       "2  Great book just like all the others in the ser...  2015-08-31  \n",
       "3                                       So beautiful  2015-08-31  \n",
       "4  Enjoyed the author's story and his quilts are ...  2015-08-31  "
      ]
     },
     "execution_count": 3,
     "metadata": {},
     "output_type": "execute_result"
    }
   ],
   "source": [
    "books00_df.head()"
   ]
  },
  {
   "cell_type": "code",
   "execution_count": 49,
   "metadata": {},
   "outputs": [
    {
     "data": {
      "text/plain": [
       "array(['Books',\n",
       "       \"Andy Weir has stated that, when he writes, he doesn't have a point or moral to make.  The only reason he writes is to entertain.  &#34;I never want to make the reader do anything but go 'cool' and that's it.&#34;  (Aug. 17, 2015 interview at L.A. Google office)  I suspect his stated intent explains the difference in mentality between those who love and those who hate the book.  I have a background in physics and work in aerospace/defense as an analyst, so qualify as a nerd who appreciates the technical details.  But the thought I had over and over while trying to slog through the book is why try to stretch what seems to be a &#34;how-to manual&#34; into novel form at all??  There is no larger emotional arc.  No thought-provoking big ideas.  No real backstory for the main character.  I really enjoy my nerdy friends and coworkers, yet find Mark Watney boring, obvious, and annoying.  The sardonic humor is unrelenting.  And the writing is regularly cliche and corny.  Ex. &#34;You wouldn't guess this botanist/mechanical engineer was a bit of a nerd in high school but indeed I was.&#34;  (har, har)  Or this gem: &#34;It's hydrogenville in the hab.&#34;  (Think my eyes rolled back into my head at this point.  Someone get me some oxygen! haha)  Mark Watney more closely resembles the office dweeb engineer than an esteemed botanist/mech eng/astronaut.  At least he talks like the former.  I love the idea for the story!  And I enjoyed watching Andy Weir talk about the book during the Google interview.  Clearly the author put a lot of effort into researching the science.  But, although I wanted to like the book, I just can't recommend it.  Am interested in watching the author develop as a writer and hope to enjoy future works.\",\n",
       "       \"Perhaps I thought this book was such a disappointment because prior to reading this I just finished &#34;The Goldfinch&#34;, which was a masterpiece, but I found this book dull and flat. I couldn't relate to any of the characters because their flaws were so forced and cliche, that I was nearly rolling my eyes the entire time. Not recommended other than for a beach read (maybe).\"],\n",
       "      dtype=object)"
      ]
     },
     "execution_count": 49,
     "metadata": {},
     "output_type": "execute_result"
    }
   ],
   "source": [
    "books00_df['product_category'].unique()"
   ]
  },
  {
   "cell_type": "markdown",
   "metadata": {},
   "source": [
    "Some questions to answer for this set of data\n",
    "1. What is the date range?\n",
    "2. What's the breakdown of star ratings? How many are 5's etc?\n",
    "3. How many different books are there?\n",
    "4. How often is the review body empty?\n",
    "5. What to do about a 0 star rating? Is it real?"
   ]
  },
  {
   "cell_type": "code",
   "execution_count": 4,
   "metadata": {},
   "outputs": [],
   "source": [
    "books00_df['string date'] = (books00_df['review_date']).apply(str)"
   ]
  },
  {
   "cell_type": "code",
   "execution_count": 5,
   "metadata": {},
   "outputs": [
    {
     "name": "stdout",
     "output_type": "stream",
     "text": [
      "nan\n",
      "2015-08-22\n",
      "Total number of nans in the review date: 6\n"
     ]
    }
   ],
   "source": [
    "# This shows that there are some dates that are missing so we need to clean that data \n",
    "\n",
    "print(books00_df['string date'].max())\n",
    "print(books00_df['string date'].min())\n",
    "print('Total number of nans in the review date:', books00_df['review_date'].isna().sum())"
   ]
  },
  {
   "cell_type": "code",
   "execution_count": 6,
   "metadata": {},
   "outputs": [
    {
     "name": "stdout",
     "output_type": "stream",
     "text": [
      "Total number of nans in the product title: 0\n",
      "Total number of nans in the star rating: 0\n",
      "Total number of nans in the review body: 9\n",
      "Total number of nans in the helpful votes: 2\n",
      "Total number of nans in the total votes: 2\n",
      "Total number of nans in the verified purchase: 2\n"
     ]
    }
   ],
   "source": [
    "# Looks for nans in other columns \n",
    "print('Total number of nans in the product title:', books00_df['product_title'].isna().sum())\n",
    "print('Total number of nans in the star rating:', books00_df['star_rating'].isna().sum())\n",
    "print('Total number of nans in the review body:', books00_df['review_body'].isna().sum())\n",
    "print('Total number of nans in the helpful votes:', books00_df['helpful_votes'].isna().sum())\n",
    "print('Total number of nans in the total votes:', books00_df['total_votes'].isna().sum())\n",
    "print('Total number of nans in the verified purchase:', books00_df['verified_purchase'].isna().sum())"
   ]
  },
  {
   "cell_type": "code",
   "execution_count": 7,
   "metadata": {},
   "outputs": [],
   "source": [
    "df = books00_df[['product_title','review_date','review_body', 'star_rating', 'verified_purchase', \n",
    "                 'helpful_votes','total_votes']]"
   ]
  },
  {
   "cell_type": "code",
   "execution_count": 8,
   "metadata": {},
   "outputs": [],
   "source": [
    "df = df.dropna()"
   ]
  },
  {
   "cell_type": "code",
   "execution_count": 9,
   "metadata": {},
   "outputs": [
    {
     "name": "stdout",
     "output_type": "stream",
     "text": [
      "(97484, 16)\n",
      "(97471, 7)\n"
     ]
    }
   ],
   "source": [
    "print(books00_df.shape)\n",
    "print(df.shape)"
   ]
  },
  {
   "cell_type": "code",
   "execution_count": 10,
   "metadata": {},
   "outputs": [
    {
     "name": "stdout",
     "output_type": "stream",
     "text": [
      "min date: 2015-08-22\n",
      "max date: 2015-08-31\n"
     ]
    }
   ],
   "source": [
    "print('min date:', df['review_date'].min())\n",
    "print('max date:', df['review_date'].max())"
   ]
  },
  {
   "cell_type": "code",
   "execution_count": 11,
   "metadata": {},
   "outputs": [
    {
     "data": {
      "text/plain": [
       "5    70883\n",
       "4    13541\n",
       "3     5880\n",
       "1     4144\n",
       "2     3023\n",
       "Name: star_rating, dtype: int64"
      ]
     },
     "execution_count": 11,
     "metadata": {},
     "output_type": "execute_result"
    }
   ],
   "source": [
    "df['star_rating'].value_counts()"
   ]
  },
  {
   "cell_type": "code",
   "execution_count": 12,
   "metadata": {},
   "outputs": [
    {
     "data": {
      "text/plain": [
       "71224"
      ]
     },
     "execution_count": 12,
     "metadata": {},
     "output_type": "execute_result"
    }
   ],
   "source": [
    "len(df['product_title'].unique())"
   ]
  },
  {
   "cell_type": "code",
   "execution_count": 13,
   "metadata": {},
   "outputs": [],
   "source": [
    "df['len_review_body'] = df['review_body'].apply(len)"
   ]
  },
  {
   "cell_type": "code",
   "execution_count": 14,
   "metadata": {},
   "outputs": [
    {
     "data": {
      "text/html": [
       "<div>\n",
       "<style scoped>\n",
       "    .dataframe tbody tr th:only-of-type {\n",
       "        vertical-align: middle;\n",
       "    }\n",
       "\n",
       "    .dataframe tbody tr th {\n",
       "        vertical-align: top;\n",
       "    }\n",
       "\n",
       "    .dataframe thead th {\n",
       "        text-align: right;\n",
       "    }\n",
       "</style>\n",
       "<table border=\"1\" class=\"dataframe\">\n",
       "  <thead>\n",
       "    <tr style=\"text-align: right;\">\n",
       "      <th></th>\n",
       "      <th>product_title</th>\n",
       "      <th>review_date</th>\n",
       "      <th>review_body</th>\n",
       "      <th>star_rating</th>\n",
       "      <th>verified_purchase</th>\n",
       "      <th>helpful_votes</th>\n",
       "      <th>total_votes</th>\n",
       "      <th>len_review_body</th>\n",
       "    </tr>\n",
       "  </thead>\n",
       "  <tbody>\n",
       "    <tr>\n",
       "      <th>0</th>\n",
       "      <td>There Was an Old Lady Who Swallowed a Shell!</td>\n",
       "      <td>2015-08-31</td>\n",
       "      <td>I love it and so does my students!</td>\n",
       "      <td>5</td>\n",
       "      <td>Y</td>\n",
       "      <td>0.0</td>\n",
       "      <td>0.0</td>\n",
       "      <td>34</td>\n",
       "    </tr>\n",
       "    <tr>\n",
       "      <th>1</th>\n",
       "      <td>I Saw a Friend</td>\n",
       "      <td>2015-08-31</td>\n",
       "      <td>My wife and I ordered 2 books and gave them as...</td>\n",
       "      <td>5</td>\n",
       "      <td>Y</td>\n",
       "      <td>0.0</td>\n",
       "      <td>0.0</td>\n",
       "      <td>364</td>\n",
       "    </tr>\n",
       "    <tr>\n",
       "      <th>2</th>\n",
       "      <td>Black Lagoon, Vol. 6</td>\n",
       "      <td>2015-08-31</td>\n",
       "      <td>Great book just like all the others in the ser...</td>\n",
       "      <td>5</td>\n",
       "      <td>Y</td>\n",
       "      <td>0.0</td>\n",
       "      <td>0.0</td>\n",
       "      <td>50</td>\n",
       "    </tr>\n",
       "    <tr>\n",
       "      <th>3</th>\n",
       "      <td>If I Stay</td>\n",
       "      <td>2015-08-31</td>\n",
       "      <td>So beautiful</td>\n",
       "      <td>5</td>\n",
       "      <td>N</td>\n",
       "      <td>0.0</td>\n",
       "      <td>0.0</td>\n",
       "      <td>12</td>\n",
       "    </tr>\n",
       "    <tr>\n",
       "      <th>4</th>\n",
       "      <td>Stars 'N Strips Forever</td>\n",
       "      <td>2015-08-31</td>\n",
       "      <td>Enjoyed the author's story and his quilts are ...</td>\n",
       "      <td>5</td>\n",
       "      <td>Y</td>\n",
       "      <td>2.0</td>\n",
       "      <td>2.0</td>\n",
       "      <td>86</td>\n",
       "    </tr>\n",
       "  </tbody>\n",
       "</table>\n",
       "</div>"
      ],
      "text/plain": [
       "                                  product_title review_date  \\\n",
       "0  There Was an Old Lady Who Swallowed a Shell!  2015-08-31   \n",
       "1                                I Saw a Friend  2015-08-31   \n",
       "2                          Black Lagoon, Vol. 6  2015-08-31   \n",
       "3                                     If I Stay  2015-08-31   \n",
       "4                       Stars 'N Strips Forever  2015-08-31   \n",
       "\n",
       "                                         review_body star_rating  \\\n",
       "0                 I love it and so does my students!           5   \n",
       "1  My wife and I ordered 2 books and gave them as...           5   \n",
       "2  Great book just like all the others in the ser...           5   \n",
       "3                                       So beautiful           5   \n",
       "4  Enjoyed the author's story and his quilts are ...           5   \n",
       "\n",
       "  verified_purchase  helpful_votes  total_votes  len_review_body  \n",
       "0                 Y            0.0          0.0               34  \n",
       "1                 Y            0.0          0.0              364  \n",
       "2                 Y            0.0          0.0               50  \n",
       "3                 N            0.0          0.0               12  \n",
       "4                 Y            2.0          2.0               86  "
      ]
     },
     "execution_count": 14,
     "metadata": {},
     "output_type": "execute_result"
    }
   ],
   "source": [
    "df.head()"
   ]
  },
  {
   "cell_type": "code",
   "execution_count": 15,
   "metadata": {},
   "outputs": [
    {
     "name": "stdout",
     "output_type": "stream",
     "text": [
      "min review body len: 1\n"
     ]
    }
   ],
   "source": [
    "print('min review body len:', df['len_review_body'].min())"
   ]
  },
  {
   "cell_type": "code",
   "execution_count": 16,
   "metadata": {},
   "outputs": [
    {
     "name": "stdout",
     "output_type": "stream",
     "text": [
      "sum of min review body len: 32\n"
     ]
    }
   ],
   "source": [
    "print('sum of min review body len:', sum(df['len_review_body'] == 1))"
   ]
  },
  {
   "cell_type": "code",
   "execution_count": 17,
   "metadata": {},
   "outputs": [
    {
     "name": "stdout",
     "output_type": "stream",
     "text": [
      "sum of <= 5 review body len: 2135\n"
     ]
    }
   ],
   "source": [
    "print('sum of <= 5 review body len:', sum(df['len_review_body'] <= 5))"
   ]
  },
  {
   "cell_type": "code",
   "execution_count": 18,
   "metadata": {},
   "outputs": [
    {
     "name": "stdout",
     "output_type": "stream",
     "text": [
      "sum of <= 3 review body len: 411\n"
     ]
    }
   ],
   "source": [
    "print('sum of <= 3 review body len:', sum(df['len_review_body'] <= 3))"
   ]
  },
  {
   "cell_type": "markdown",
   "metadata": {},
   "source": [
    "I'm thinking that we may want to drop the rows that have too short of a review body length because those lines will not be interesting enough or important enough to keep."
   ]
  },
  {
   "cell_type": "code",
   "execution_count": 19,
   "metadata": {},
   "outputs": [
    {
     "data": {
      "text/plain": [
       "(411, 8)"
      ]
     },
     "execution_count": 19,
     "metadata": {},
     "output_type": "execute_result"
    }
   ],
   "source": [
    "df_short3 = df[df['len_review_body'] <= 3]\n",
    "df_short3.shape"
   ]
  },
  {
   "cell_type": "code",
   "execution_count": 21,
   "metadata": {},
   "outputs": [
    {
     "data": {
      "text/html": [
       "<div>\n",
       "<style scoped>\n",
       "    .dataframe tbody tr th:only-of-type {\n",
       "        vertical-align: middle;\n",
       "    }\n",
       "\n",
       "    .dataframe tbody tr th {\n",
       "        vertical-align: top;\n",
       "    }\n",
       "\n",
       "    .dataframe thead th {\n",
       "        text-align: right;\n",
       "    }\n",
       "</style>\n",
       "<table border=\"1\" class=\"dataframe\">\n",
       "  <thead>\n",
       "    <tr style=\"text-align: right;\">\n",
       "      <th></th>\n",
       "      <th>product_title</th>\n",
       "      <th>review_date</th>\n",
       "      <th>review_body</th>\n",
       "      <th>star_rating</th>\n",
       "      <th>verified_purchase</th>\n",
       "      <th>helpful_votes</th>\n",
       "      <th>total_votes</th>\n",
       "      <th>len_review_body</th>\n",
       "    </tr>\n",
       "  </thead>\n",
       "  <tbody>\n",
       "    <tr>\n",
       "      <th>234</th>\n",
       "      <td>Crime Scene Investigation (2nd Edition)</td>\n",
       "      <td>2015-08-31</td>\n",
       "      <td>Ok!</td>\n",
       "      <td>1</td>\n",
       "      <td>Y</td>\n",
       "      <td>0.0</td>\n",
       "      <td>0.0</td>\n",
       "      <td>3</td>\n",
       "    </tr>\n",
       "    <tr>\n",
       "      <th>473</th>\n",
       "      <td>Shady Characters: The Secret Life of Punctuati...</td>\n",
       "      <td>2015-08-31</td>\n",
       "      <td>OK</td>\n",
       "      <td>3</td>\n",
       "      <td>Y</td>\n",
       "      <td>0.0</td>\n",
       "      <td>4.0</td>\n",
       "      <td>2</td>\n",
       "    </tr>\n",
       "    <tr>\n",
       "      <th>601</th>\n",
       "      <td>Debt-Free U: How I Paid for an Outstanding Col...</td>\n",
       "      <td>2015-08-31</td>\n",
       "      <td>meh</td>\n",
       "      <td>1</td>\n",
       "      <td>Y</td>\n",
       "      <td>0.0</td>\n",
       "      <td>4.0</td>\n",
       "      <td>3</td>\n",
       "    </tr>\n",
       "    <tr>\n",
       "      <th>761</th>\n",
       "      <td>Crohn's Disease: My Life, My Journey</td>\n",
       "      <td>2015-08-31</td>\n",
       "      <td>Eh</td>\n",
       "      <td>2</td>\n",
       "      <td>Y</td>\n",
       "      <td>0.0</td>\n",
       "      <td>0.0</td>\n",
       "      <td>2</td>\n",
       "    </tr>\n",
       "    <tr>\n",
       "      <th>818</th>\n",
       "      <td>Project Estimating and Cost Management (Projec...</td>\n",
       "      <td>2015-08-31</td>\n",
       "      <td>meh</td>\n",
       "      <td>3</td>\n",
       "      <td>Y</td>\n",
       "      <td>0.0</td>\n",
       "      <td>0.0</td>\n",
       "      <td>3</td>\n",
       "    </tr>\n",
       "    <tr>\n",
       "      <th>934</th>\n",
       "      <td>Mathematical Proofs: A Transition to Advanced ...</td>\n",
       "      <td>2015-08-31</td>\n",
       "      <td>N\\a</td>\n",
       "      <td>5</td>\n",
       "      <td>Y</td>\n",
       "      <td>0.0</td>\n",
       "      <td>3.0</td>\n",
       "      <td>3</td>\n",
       "    </tr>\n",
       "    <tr>\n",
       "      <th>1437</th>\n",
       "      <td>The American Heritage Desk Dictionary, Fifth E...</td>\n",
       "      <td>2015-08-31</td>\n",
       "      <td>OK</td>\n",
       "      <td>3</td>\n",
       "      <td>Y</td>\n",
       "      <td>0.0</td>\n",
       "      <td>1.0</td>\n",
       "      <td>2</td>\n",
       "    </tr>\n",
       "    <tr>\n",
       "      <th>1732</th>\n",
       "      <td>The Prince of Tides</td>\n",
       "      <td>2015-08-31</td>\n",
       "      <td>:)</td>\n",
       "      <td>5</td>\n",
       "      <td>Y</td>\n",
       "      <td>0.0</td>\n",
       "      <td>1.0</td>\n",
       "      <td>2</td>\n",
       "    </tr>\n",
       "    <tr>\n",
       "      <th>2316</th>\n",
       "      <td>Little Grey Rabbit's House: A model house to m...</td>\n",
       "      <td>2015-08-31</td>\n",
       "      <td>A+</td>\n",
       "      <td>5</td>\n",
       "      <td>Y</td>\n",
       "      <td>0.0</td>\n",
       "      <td>0.0</td>\n",
       "      <td>2</td>\n",
       "    </tr>\n",
       "    <tr>\n",
       "      <th>2433</th>\n",
       "      <td>Microbiology: The Human Experience</td>\n",
       "      <td>2015-08-31</td>\n",
       "      <td>A+</td>\n",
       "      <td>5</td>\n",
       "      <td>Y</td>\n",
       "      <td>0.0</td>\n",
       "      <td>3.0</td>\n",
       "      <td>2</td>\n",
       "    </tr>\n",
       "    <tr>\n",
       "      <th>2690</th>\n",
       "      <td>The Red and the Black (Penguin Classics)</td>\n",
       "      <td>2015-08-31</td>\n",
       "      <td>wow</td>\n",
       "      <td>5</td>\n",
       "      <td>Y</td>\n",
       "      <td>0.0</td>\n",
       "      <td>0.0</td>\n",
       "      <td>3</td>\n",
       "    </tr>\n",
       "    <tr>\n",
       "      <th>2877</th>\n",
       "      <td>The Butterfly Effect: How Your Life Matters</td>\n",
       "      <td>2015-08-31</td>\n",
       "      <td>:)</td>\n",
       "      <td>5</td>\n",
       "      <td>Y</td>\n",
       "      <td>0.0</td>\n",
       "      <td>1.0</td>\n",
       "      <td>2</td>\n",
       "    </tr>\n",
       "    <tr>\n",
       "      <th>3128</th>\n",
       "      <td>The Weight Loss Cure They Don't Want You to Kn...</td>\n",
       "      <td>2015-08-31</td>\n",
       "      <td>ok</td>\n",
       "      <td>3</td>\n",
       "      <td>Y</td>\n",
       "      <td>1.0</td>\n",
       "      <td>2.0</td>\n",
       "      <td>2</td>\n",
       "    </tr>\n",
       "    <tr>\n",
       "      <th>3300</th>\n",
       "      <td>Lean Six Sigma and Minitab (4th Edition): The ...</td>\n",
       "      <td>2015-08-31</td>\n",
       "      <td>ok</td>\n",
       "      <td>4</td>\n",
       "      <td>Y</td>\n",
       "      <td>0.0</td>\n",
       "      <td>2.0</td>\n",
       "      <td>2</td>\n",
       "    </tr>\n",
       "    <tr>\n",
       "      <th>3322</th>\n",
       "      <td>Bridge For Dummies</td>\n",
       "      <td>2015-08-31</td>\n",
       "      <td>OK</td>\n",
       "      <td>3</td>\n",
       "      <td>Y</td>\n",
       "      <td>0.0</td>\n",
       "      <td>0.0</td>\n",
       "      <td>2</td>\n",
       "    </tr>\n",
       "    <tr>\n",
       "      <th>3499</th>\n",
       "      <td>PACEMAKER WORLD HISTORY SE (Pacemaker (Pearson...</td>\n",
       "      <td>2015-08-31</td>\n",
       "      <td>A+</td>\n",
       "      <td>5</td>\n",
       "      <td>Y</td>\n",
       "      <td>0.0</td>\n",
       "      <td>0.0</td>\n",
       "      <td>2</td>\n",
       "    </tr>\n",
       "    <tr>\n",
       "      <th>3532</th>\n",
       "      <td>The Complete Idiot's Guide to Smoking Foods (C...</td>\n",
       "      <td>2015-08-31</td>\n",
       "      <td>ok</td>\n",
       "      <td>3</td>\n",
       "      <td>Y</td>\n",
       "      <td>0.0</td>\n",
       "      <td>1.0</td>\n",
       "      <td>2</td>\n",
       "    </tr>\n",
       "    <tr>\n",
       "      <th>3988</th>\n",
       "      <td>Random House Webster's Spanish-English English...</td>\n",
       "      <td>2015-08-31</td>\n",
       "      <td>OK.</td>\n",
       "      <td>3</td>\n",
       "      <td>Y</td>\n",
       "      <td>0.0</td>\n",
       "      <td>0.0</td>\n",
       "      <td>3</td>\n",
       "    </tr>\n",
       "    <tr>\n",
       "      <th>4126</th>\n",
       "      <td>Smoking Meat: The Essential Guide to Real Barb...</td>\n",
       "      <td>2015-08-31</td>\n",
       "      <td>ok</td>\n",
       "      <td>3</td>\n",
       "      <td>Y</td>\n",
       "      <td>0.0</td>\n",
       "      <td>2.0</td>\n",
       "      <td>2</td>\n",
       "    </tr>\n",
       "    <tr>\n",
       "      <th>4202</th>\n",
       "      <td>Katherine</td>\n",
       "      <td>2015-08-31</td>\n",
       "      <td>OK.</td>\n",
       "      <td>3</td>\n",
       "      <td>Y</td>\n",
       "      <td>0.0</td>\n",
       "      <td>2.0</td>\n",
       "      <td>3</td>\n",
       "    </tr>\n",
       "  </tbody>\n",
       "</table>\n",
       "</div>"
      ],
      "text/plain": [
       "                                          product_title review_date  \\\n",
       "234             Crime Scene Investigation (2nd Edition)  2015-08-31   \n",
       "473   Shady Characters: The Secret Life of Punctuati...  2015-08-31   \n",
       "601   Debt-Free U: How I Paid for an Outstanding Col...  2015-08-31   \n",
       "761                Crohn's Disease: My Life, My Journey  2015-08-31   \n",
       "818   Project Estimating and Cost Management (Projec...  2015-08-31   \n",
       "934   Mathematical Proofs: A Transition to Advanced ...  2015-08-31   \n",
       "1437  The American Heritage Desk Dictionary, Fifth E...  2015-08-31   \n",
       "1732                                The Prince of Tides  2015-08-31   \n",
       "2316  Little Grey Rabbit's House: A model house to m...  2015-08-31   \n",
       "2433                 Microbiology: The Human Experience  2015-08-31   \n",
       "2690           The Red and the Black (Penguin Classics)  2015-08-31   \n",
       "2877        The Butterfly Effect: How Your Life Matters  2015-08-31   \n",
       "3128  The Weight Loss Cure They Don't Want You to Kn...  2015-08-31   \n",
       "3300  Lean Six Sigma and Minitab (4th Edition): The ...  2015-08-31   \n",
       "3322                                 Bridge For Dummies  2015-08-31   \n",
       "3499  PACEMAKER WORLD HISTORY SE (Pacemaker (Pearson...  2015-08-31   \n",
       "3532  The Complete Idiot's Guide to Smoking Foods (C...  2015-08-31   \n",
       "3988  Random House Webster's Spanish-English English...  2015-08-31   \n",
       "4126  Smoking Meat: The Essential Guide to Real Barb...  2015-08-31   \n",
       "4202                                          Katherine  2015-08-31   \n",
       "\n",
       "     review_body star_rating verified_purchase  helpful_votes  total_votes  \\\n",
       "234          Ok!           1                 Y            0.0          0.0   \n",
       "473           OK           3                 Y            0.0          4.0   \n",
       "601          meh           1                 Y            0.0          4.0   \n",
       "761           Eh           2                 Y            0.0          0.0   \n",
       "818          meh           3                 Y            0.0          0.0   \n",
       "934          N\\a           5                 Y            0.0          3.0   \n",
       "1437          OK           3                 Y            0.0          1.0   \n",
       "1732          :)           5                 Y            0.0          1.0   \n",
       "2316          A+           5                 Y            0.0          0.0   \n",
       "2433          A+           5                 Y            0.0          3.0   \n",
       "2690         wow           5                 Y            0.0          0.0   \n",
       "2877          :)           5                 Y            0.0          1.0   \n",
       "3128          ok           3                 Y            1.0          2.0   \n",
       "3300          ok           4                 Y            0.0          2.0   \n",
       "3322          OK           3                 Y            0.0          0.0   \n",
       "3499          A+           5                 Y            0.0          0.0   \n",
       "3532          ok           3                 Y            0.0          1.0   \n",
       "3988         OK.           3                 Y            0.0          0.0   \n",
       "4126          ok           3                 Y            0.0          2.0   \n",
       "4202         OK.           3                 Y            0.0          2.0   \n",
       "\n",
       "      len_review_body  \n",
       "234                 3  \n",
       "473                 2  \n",
       "601                 3  \n",
       "761                 2  \n",
       "818                 3  \n",
       "934                 3  \n",
       "1437                2  \n",
       "1732                2  \n",
       "2316                2  \n",
       "2433                2  \n",
       "2690                3  \n",
       "2877                2  \n",
       "3128                2  \n",
       "3300                2  \n",
       "3322                2  \n",
       "3499                2  \n",
       "3532                2  \n",
       "3988                3  \n",
       "4126                2  \n",
       "4202                3  "
      ]
     },
     "execution_count": 21,
     "metadata": {},
     "output_type": "execute_result"
    }
   ],
   "source": [
    "df_short3.head(20)"
   ]
  },
  {
   "cell_type": "code",
   "execution_count": 22,
   "metadata": {},
   "outputs": [
    {
     "data": {
      "text/plain": [
       "(32, 8)"
      ]
     },
     "execution_count": 22,
     "metadata": {},
     "output_type": "execute_result"
    }
   ],
   "source": [
    "df_short1 = df[df['len_review_body'] <= 1]\n",
    "df_short1.shape"
   ]
  },
  {
   "cell_type": "code",
   "execution_count": 23,
   "metadata": {},
   "outputs": [
    {
     "data": {
      "text/html": [
       "<div>\n",
       "<style scoped>\n",
       "    .dataframe tbody tr th:only-of-type {\n",
       "        vertical-align: middle;\n",
       "    }\n",
       "\n",
       "    .dataframe tbody tr th {\n",
       "        vertical-align: top;\n",
       "    }\n",
       "\n",
       "    .dataframe thead th {\n",
       "        text-align: right;\n",
       "    }\n",
       "</style>\n",
       "<table border=\"1\" class=\"dataframe\">\n",
       "  <thead>\n",
       "    <tr style=\"text-align: right;\">\n",
       "      <th></th>\n",
       "      <th>product_title</th>\n",
       "      <th>review_date</th>\n",
       "      <th>review_body</th>\n",
       "      <th>star_rating</th>\n",
       "      <th>verified_purchase</th>\n",
       "      <th>helpful_votes</th>\n",
       "      <th>total_votes</th>\n",
       "      <th>len_review_body</th>\n",
       "    </tr>\n",
       "  </thead>\n",
       "  <tbody>\n",
       "    <tr>\n",
       "      <th>12705</th>\n",
       "      <td>Grey: Fifty Shades of Grey as Told by Christia...</td>\n",
       "      <td>2015-08-30</td>\n",
       "      <td>😊</td>\n",
       "      <td>5</td>\n",
       "      <td>Y</td>\n",
       "      <td>0.0</td>\n",
       "      <td>0.0</td>\n",
       "      <td>1</td>\n",
       "    </tr>\n",
       "    <tr>\n",
       "      <th>15750</th>\n",
       "      <td>All Quiet on the Western Front</td>\n",
       "      <td>2015-08-30</td>\n",
       "      <td>K</td>\n",
       "      <td>5</td>\n",
       "      <td>Y</td>\n",
       "      <td>0.0</td>\n",
       "      <td>0.0</td>\n",
       "      <td>1</td>\n",
       "    </tr>\n",
       "    <tr>\n",
       "      <th>18513</th>\n",
       "      <td>NFPA 70®: National Electrical Code® (NEC®), 20...</td>\n",
       "      <td>2015-08-30</td>\n",
       "      <td>a</td>\n",
       "      <td>5</td>\n",
       "      <td>Y</td>\n",
       "      <td>0.0</td>\n",
       "      <td>0.0</td>\n",
       "      <td>1</td>\n",
       "    </tr>\n",
       "    <tr>\n",
       "      <th>18865</th>\n",
       "      <td>100 Edible Mushrooms</td>\n",
       "      <td>2015-08-30</td>\n",
       "      <td>1</td>\n",
       "      <td>4</td>\n",
       "      <td>Y</td>\n",
       "      <td>0.0</td>\n",
       "      <td>1.0</td>\n",
       "      <td>1</td>\n",
       "    </tr>\n",
       "    <tr>\n",
       "      <th>19707</th>\n",
       "      <td>Mushrooms of West Virginia and the Central App...</td>\n",
       "      <td>2015-08-30</td>\n",
       "      <td>1</td>\n",
       "      <td>4</td>\n",
       "      <td>Y</td>\n",
       "      <td>0.0</td>\n",
       "      <td>0.0</td>\n",
       "      <td>1</td>\n",
       "    </tr>\n",
       "    <tr>\n",
       "      <th>23252</th>\n",
       "      <td>School Nursing: A Comprehensive Text</td>\n",
       "      <td>2015-08-29</td>\n",
       "      <td>👍</td>\n",
       "      <td>5</td>\n",
       "      <td>Y</td>\n",
       "      <td>0.0</td>\n",
       "      <td>2.0</td>\n",
       "      <td>1</td>\n",
       "    </tr>\n",
       "    <tr>\n",
       "      <th>25787</th>\n",
       "      <td>CNA Exam Prep (Volume 2): Nurse Assistant Prac...</td>\n",
       "      <td>2015-08-29</td>\n",
       "      <td>👍</td>\n",
       "      <td>5</td>\n",
       "      <td>Y</td>\n",
       "      <td>0.0</td>\n",
       "      <td>0.0</td>\n",
       "      <td>1</td>\n",
       "    </tr>\n",
       "    <tr>\n",
       "      <th>28440</th>\n",
       "      <td>Descendants: Junior Novel</td>\n",
       "      <td>2015-08-29</td>\n",
       "      <td>😀</td>\n",
       "      <td>5</td>\n",
       "      <td>Y</td>\n",
       "      <td>0.0</td>\n",
       "      <td>0.0</td>\n",
       "      <td>1</td>\n",
       "    </tr>\n",
       "    <tr>\n",
       "      <th>28523</th>\n",
       "      <td>Jesus acted up: A gay and lesbian manifesto</td>\n",
       "      <td>2015-08-29</td>\n",
       "      <td>👍</td>\n",
       "      <td>4</td>\n",
       "      <td>Y</td>\n",
       "      <td>0.0</td>\n",
       "      <td>1.0</td>\n",
       "      <td>1</td>\n",
       "    </tr>\n",
       "    <tr>\n",
       "      <th>28928</th>\n",
       "      <td>Crazy Circles Lesson Plan &amp; Record Book</td>\n",
       "      <td>2015-08-29</td>\n",
       "      <td>😀</td>\n",
       "      <td>5</td>\n",
       "      <td>Y</td>\n",
       "      <td>0.0</td>\n",
       "      <td>1.0</td>\n",
       "      <td>1</td>\n",
       "    </tr>\n",
       "    <tr>\n",
       "      <th>31700</th>\n",
       "      <td>A Kissing Hand for Chester Raccoon (The Kissin...</td>\n",
       "      <td>2015-08-29</td>\n",
       "      <td>😀</td>\n",
       "      <td>5</td>\n",
       "      <td>Y</td>\n",
       "      <td>0.0</td>\n",
       "      <td>0.0</td>\n",
       "      <td>1</td>\n",
       "    </tr>\n",
       "    <tr>\n",
       "      <th>33535</th>\n",
       "      <td>Ugly's Electrical References, 2014 Edition</td>\n",
       "      <td>2015-08-28</td>\n",
       "      <td>👍</td>\n",
       "      <td>4</td>\n",
       "      <td>Y</td>\n",
       "      <td>0.0</td>\n",
       "      <td>0.0</td>\n",
       "      <td>1</td>\n",
       "    </tr>\n",
       "    <tr>\n",
       "      <th>35033</th>\n",
       "      <td>Reina Valera Large Print Bible: Santa Biblia L...</td>\n",
       "      <td>2015-08-28</td>\n",
       "      <td>F</td>\n",
       "      <td>5</td>\n",
       "      <td>Y</td>\n",
       "      <td>1.0</td>\n",
       "      <td>1.0</td>\n",
       "      <td>1</td>\n",
       "    </tr>\n",
       "    <tr>\n",
       "      <th>38816</th>\n",
       "      <td>The Great Crusade: A New Complete History of t...</td>\n",
       "      <td>2015-08-28</td>\n",
       "      <td>E</td>\n",
       "      <td>5</td>\n",
       "      <td>Y</td>\n",
       "      <td>0.0</td>\n",
       "      <td>0.0</td>\n",
       "      <td>1</td>\n",
       "    </tr>\n",
       "    <tr>\n",
       "      <th>39682</th>\n",
       "      <td>Purple Cow, New Edition: Transform Your Busine...</td>\n",
       "      <td>2015-08-28</td>\n",
       "      <td>C</td>\n",
       "      <td>5</td>\n",
       "      <td>Y</td>\n",
       "      <td>0.0</td>\n",
       "      <td>0.0</td>\n",
       "      <td>1</td>\n",
       "    </tr>\n",
       "    <tr>\n",
       "      <th>44682</th>\n",
       "      <td>Eat well &amp; stay well</td>\n",
       "      <td>2015-08-27</td>\n",
       "      <td>d</td>\n",
       "      <td>3</td>\n",
       "      <td>Y</td>\n",
       "      <td>0.0</td>\n",
       "      <td>0.0</td>\n",
       "      <td>1</td>\n",
       "    </tr>\n",
       "    <tr>\n",
       "      <th>48274</th>\n",
       "      <td>Barefoot Running Step by Step: Barefoot Ken Bo...</td>\n",
       "      <td>2015-08-27</td>\n",
       "      <td>😃</td>\n",
       "      <td>5</td>\n",
       "      <td>Y</td>\n",
       "      <td>0.0</td>\n",
       "      <td>0.0</td>\n",
       "      <td>1</td>\n",
       "    </tr>\n",
       "    <tr>\n",
       "      <th>49798</th>\n",
       "      <td>How to Love (Mindful Essentials)</td>\n",
       "      <td>2015-08-27</td>\n",
       "      <td>🌟</td>\n",
       "      <td>5</td>\n",
       "      <td>Y</td>\n",
       "      <td>0.0</td>\n",
       "      <td>0.0</td>\n",
       "      <td>1</td>\n",
       "    </tr>\n",
       "    <tr>\n",
       "      <th>50013</th>\n",
       "      <td>Numbers 1 to 100 Flash Cards: Numeros del 1 al...</td>\n",
       "      <td>2015-08-27</td>\n",
       "      <td>👌</td>\n",
       "      <td>5</td>\n",
       "      <td>Y</td>\n",
       "      <td>0.0</td>\n",
       "      <td>0.0</td>\n",
       "      <td>1</td>\n",
       "    </tr>\n",
       "    <tr>\n",
       "      <th>51005</th>\n",
       "      <td>Heaven is for Real: A Little Boy's Astounding ...</td>\n",
       "      <td>2015-08-27</td>\n",
       "      <td>d</td>\n",
       "      <td>5</td>\n",
       "      <td>Y</td>\n",
       "      <td>0.0</td>\n",
       "      <td>1.0</td>\n",
       "      <td>1</td>\n",
       "    </tr>\n",
       "  </tbody>\n",
       "</table>\n",
       "</div>"
      ],
      "text/plain": [
       "                                           product_title review_date  \\\n",
       "12705  Grey: Fifty Shades of Grey as Told by Christia...  2015-08-30   \n",
       "15750                     All Quiet on the Western Front  2015-08-30   \n",
       "18513  NFPA 70®: National Electrical Code® (NEC®), 20...  2015-08-30   \n",
       "18865                               100 Edible Mushrooms  2015-08-30   \n",
       "19707  Mushrooms of West Virginia and the Central App...  2015-08-30   \n",
       "23252               School Nursing: A Comprehensive Text  2015-08-29   \n",
       "25787  CNA Exam Prep (Volume 2): Nurse Assistant Prac...  2015-08-29   \n",
       "28440                          Descendants: Junior Novel  2015-08-29   \n",
       "28523        Jesus acted up: A gay and lesbian manifesto  2015-08-29   \n",
       "28928            Crazy Circles Lesson Plan & Record Book  2015-08-29   \n",
       "31700  A Kissing Hand for Chester Raccoon (The Kissin...  2015-08-29   \n",
       "33535         Ugly's Electrical References, 2014 Edition  2015-08-28   \n",
       "35033  Reina Valera Large Print Bible: Santa Biblia L...  2015-08-28   \n",
       "38816  The Great Crusade: A New Complete History of t...  2015-08-28   \n",
       "39682  Purple Cow, New Edition: Transform Your Busine...  2015-08-28   \n",
       "44682                               Eat well & stay well  2015-08-27   \n",
       "48274  Barefoot Running Step by Step: Barefoot Ken Bo...  2015-08-27   \n",
       "49798                   How to Love (Mindful Essentials)  2015-08-27   \n",
       "50013  Numbers 1 to 100 Flash Cards: Numeros del 1 al...  2015-08-27   \n",
       "51005  Heaven is for Real: A Little Boy's Astounding ...  2015-08-27   \n",
       "\n",
       "      review_body star_rating verified_purchase  helpful_votes  total_votes  \\\n",
       "12705           😊           5                 Y            0.0          0.0   \n",
       "15750           K           5                 Y            0.0          0.0   \n",
       "18513           a           5                 Y            0.0          0.0   \n",
       "18865           1           4                 Y            0.0          1.0   \n",
       "19707           1           4                 Y            0.0          0.0   \n",
       "23252           👍           5                 Y            0.0          2.0   \n",
       "25787           👍           5                 Y            0.0          0.0   \n",
       "28440           😀           5                 Y            0.0          0.0   \n",
       "28523           👍           4                 Y            0.0          1.0   \n",
       "28928           😀           5                 Y            0.0          1.0   \n",
       "31700           😀           5                 Y            0.0          0.0   \n",
       "33535           👍           4                 Y            0.0          0.0   \n",
       "35033           F           5                 Y            1.0          1.0   \n",
       "38816           E           5                 Y            0.0          0.0   \n",
       "39682           C           5                 Y            0.0          0.0   \n",
       "44682           d           3                 Y            0.0          0.0   \n",
       "48274           😃           5                 Y            0.0          0.0   \n",
       "49798           🌟           5                 Y            0.0          0.0   \n",
       "50013           👌           5                 Y            0.0          0.0   \n",
       "51005           d           5                 Y            0.0          1.0   \n",
       "\n",
       "       len_review_body  \n",
       "12705                1  \n",
       "15750                1  \n",
       "18513                1  \n",
       "18865                1  \n",
       "19707                1  \n",
       "23252                1  \n",
       "25787                1  \n",
       "28440                1  \n",
       "28523                1  \n",
       "28928                1  \n",
       "31700                1  \n",
       "33535                1  \n",
       "35033                1  \n",
       "38816                1  \n",
       "39682                1  \n",
       "44682                1  \n",
       "48274                1  \n",
       "49798                1  \n",
       "50013                1  \n",
       "51005                1  "
      ]
     },
     "execution_count": 23,
     "metadata": {},
     "output_type": "execute_result"
    }
   ],
   "source": [
    "df_short1.head(20)"
   ]
  },
  {
   "cell_type": "markdown",
   "metadata": {},
   "source": [
    "Clearly there are emojis that are sometimes used as the review body...how do we handle this? How can we handle this? \n",
    "\n",
    "Possibilities:\n",
    "1. the NLP can handle it as it is so leave them in (might not need to deal with it till next term in this case)\n",
    "2. Change emojis to words (Python emoji package) for example thumbs up emoji becomes 'thumbs up' or 'cool' \n",
    "3. Remove all rows that have an emoji in the review body (how many are there though?) "
   ]
  },
  {
   "cell_type": "code",
   "execution_count": 29,
   "metadata": {},
   "outputs": [],
   "source": [
    "emoji = df_short1.loc[28440, 'review_body']"
   ]
  },
  {
   "cell_type": "code",
   "execution_count": 30,
   "metadata": {},
   "outputs": [
    {
     "ename": "AttributeError",
     "evalue": "'str' object has no attribute 'shape'",
     "output_type": "error",
     "traceback": [
      "\u001b[0;31m---------------------------------------------------------------------------\u001b[0m",
      "\u001b[0;31mAttributeError\u001b[0m                            Traceback (most recent call last)",
      "\u001b[0;32m<ipython-input-30-9f2947d6e6dd>\u001b[0m in \u001b[0;36m<module>\u001b[0;34m\u001b[0m\n\u001b[0;32m----> 1\u001b[0;31m \u001b[0memoji\u001b[0m\u001b[0;34m.\u001b[0m\u001b[0mshape\u001b[0m\u001b[0;34m\u001b[0m\u001b[0;34m\u001b[0m\u001b[0m\n\u001b[0m",
      "\u001b[0;31mAttributeError\u001b[0m: 'str' object has no attribute 'shape'"
     ]
    }
   ],
   "source": [
    "emoji.shape"
   ]
  },
  {
   "cell_type": "code",
   "execution_count": 42,
   "metadata": {},
   "outputs": [
    {
     "name": "stdout",
     "output_type": "stream",
     "text": [
      "😀\n"
     ]
    }
   ],
   "source": [
    "print(emoji[0])"
   ]
  },
  {
   "cell_type": "code",
   "execution_count": 38,
   "metadata": {},
   "outputs": [
    {
     "name": "stdout",
     "output_type": "stream",
     "text": [
      "😀\n"
     ]
    }
   ],
   "source": [
    "print(str(emoji))"
   ]
  },
  {
   "cell_type": "code",
   "execution_count": 46,
   "metadata": {},
   "outputs": [],
   "source": [
    "emoji_text = emoji.encode('utf-8')"
   ]
  },
  {
   "cell_type": "code",
   "execution_count": 47,
   "metadata": {},
   "outputs": [
    {
     "name": "stdout",
     "output_type": "stream",
     "text": [
      "b'\\xf0\\x9f\\x98\\x80'\n"
     ]
    }
   ],
   "source": [
    "print(emoji_text)"
   ]
  },
  {
   "cell_type": "code",
   "execution_count": null,
   "metadata": {},
   "outputs": [],
   "source": []
  }
 ],
 "metadata": {
  "kernelspec": {
   "display_name": "Python 3",
   "language": "python",
   "name": "python3"
  },
  "language_info": {
   "codemirror_mode": {
    "name": "ipython",
    "version": 3
   },
   "file_extension": ".py",
   "mimetype": "text/x-python",
   "name": "python",
   "nbconvert_exporter": "python",
   "pygments_lexer": "ipython3",
   "version": "3.8.3"
  }
 },
 "nbformat": 4,
 "nbformat_minor": 4
}
