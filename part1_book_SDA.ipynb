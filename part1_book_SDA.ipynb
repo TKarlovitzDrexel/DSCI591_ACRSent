{
 "cells": [
  {
   "cell_type": "code",
   "execution_count": 1,
   "metadata": {},
   "outputs": [],
   "source": [
    "import pandas as pd\n",
    "import csv\n",
    "import matplotlib.pyplot as plt"
   ]
  },
  {
   "cell_type": "markdown",
   "metadata": {},
   "source": [
    "Standalone Python scripts were used to generate this final 3rdpass_cleaned.tsv that is our final deliverable\n",
    "for the problem \"Can we predict the star rating based on the review body?\" Before we attempt to solve that question\n",
    "we are performing some EDA, SDA, and basic data visualizing. "
   ]
  },
  {
   "cell_type": "code",
   "execution_count": 2,
   "metadata": {},
   "outputs": [],
   "source": [
    "third_pass = pd.read_csv('3rdpass_cleaned.tsv', sep='\\t', quoting=csv.QUOTE_NONE)"
   ]
  },
  {
   "cell_type": "code",
   "execution_count": 3,
   "metadata": {},
   "outputs": [],
   "source": [
    "# Create another column that holds the length of each review body\n",
    "third_pass['Review_Body'] = third_pass['Review_Body'].apply(str)\n",
    "third_pass['Length_Review_Body'] = third_pass['Review_Body'].apply(len)"
   ]
  },
  {
   "cell_type": "code",
   "execution_count": 4,
   "metadata": {},
   "outputs": [],
   "source": [
    "# Create an integer date column\n",
    "third_pass['Integer_Date'] = third_pass['Review_Date'].apply(lambda x: int(x[0:4] + x[5:7] + x[8:10]))"
   ]
  },
  {
   "cell_type": "code",
   "execution_count": 5,
   "metadata": {},
   "outputs": [
    {
     "data": {
      "text/html": [
       "<div>\n",
       "<style scoped>\n",
       "    .dataframe tbody tr th:only-of-type {\n",
       "        vertical-align: middle;\n",
       "    }\n",
       "\n",
       "    .dataframe tbody tr th {\n",
       "        vertical-align: top;\n",
       "    }\n",
       "\n",
       "    .dataframe thead th {\n",
       "        text-align: right;\n",
       "    }\n",
       "</style>\n",
       "<table border=\"1\" class=\"dataframe\">\n",
       "  <thead>\n",
       "    <tr style=\"text-align: right;\">\n",
       "      <th></th>\n",
       "      <th>Title</th>\n",
       "      <th>Star_Rating</th>\n",
       "      <th>Total_Votes</th>\n",
       "      <th>Review_Body</th>\n",
       "      <th>Review_Date</th>\n",
       "      <th>Length_Review_Body</th>\n",
       "      <th>Integer_Date</th>\n",
       "    </tr>\n",
       "  </thead>\n",
       "  <tbody>\n",
       "    <tr>\n",
       "      <th>0</th>\n",
       "      <td>The Book of Life (All Souls)</td>\n",
       "      <td>5</td>\n",
       "      <td>0</td>\n",
       "      <td>Love Deborah Harness's Trilogy!  Didn't want t...</td>\n",
       "      <td>2015-08-31</td>\n",
       "      <td>174</td>\n",
       "      <td>20150831</td>\n",
       "    </tr>\n",
       "    <tr>\n",
       "      <th>1</th>\n",
       "      <td>CompTIA A+ Certification All-in-One Exam Guide...</td>\n",
       "      <td>5</td>\n",
       "      <td>0</td>\n",
       "      <td>Bought this book for my boyfriend. He said it ...</td>\n",
       "      <td>2015-08-31</td>\n",
       "      <td>118</td>\n",
       "      <td>20150831</td>\n",
       "    </tr>\n",
       "    <tr>\n",
       "      <th>2</th>\n",
       "      <td>The Encyclopedia of Infant and Toddlers Activi...</td>\n",
       "      <td>5</td>\n",
       "      <td>0</td>\n",
       "      <td>Excellent resource.</td>\n",
       "      <td>2015-08-31</td>\n",
       "      <td>19</td>\n",
       "      <td>20150831</td>\n",
       "    </tr>\n",
       "    <tr>\n",
       "      <th>3</th>\n",
       "      <td>Pearson Reviews &amp; Rationales: Medical-Surgical...</td>\n",
       "      <td>5</td>\n",
       "      <td>0</td>\n",
       "      <td>This was very helpful for my Med-Surg class! I...</td>\n",
       "      <td>2015-08-31</td>\n",
       "      <td>191</td>\n",
       "      <td>20150831</td>\n",
       "    </tr>\n",
       "    <tr>\n",
       "      <th>4</th>\n",
       "      <td>Forming Intentional Disciples: The Path to Kno...</td>\n",
       "      <td>5</td>\n",
       "      <td>0</td>\n",
       "      <td>This book inspired me not to nly looke at my o...</td>\n",
       "      <td>2015-08-31</td>\n",
       "      <td>245</td>\n",
       "      <td>20150831</td>\n",
       "    </tr>\n",
       "  </tbody>\n",
       "</table>\n",
       "</div>"
      ],
      "text/plain": [
       "                                               Title  Star_Rating  \\\n",
       "0                       The Book of Life (All Souls)            5   \n",
       "1  CompTIA A+ Certification All-in-One Exam Guide...            5   \n",
       "2  The Encyclopedia of Infant and Toddlers Activi...            5   \n",
       "3  Pearson Reviews & Rationales: Medical-Surgical...            5   \n",
       "4  Forming Intentional Disciples: The Path to Kno...            5   \n",
       "\n",
       "   Total_Votes                                        Review_Body Review_Date  \\\n",
       "0            0  Love Deborah Harness's Trilogy!  Didn't want t...  2015-08-31   \n",
       "1            0  Bought this book for my boyfriend. He said it ...  2015-08-31   \n",
       "2            0                                Excellent resource.  2015-08-31   \n",
       "3            0  This was very helpful for my Med-Surg class! I...  2015-08-31   \n",
       "4            0  This book inspired me not to nly looke at my o...  2015-08-31   \n",
       "\n",
       "   Length_Review_Body  Integer_Date  \n",
       "0                 174      20150831  \n",
       "1                 118      20150831  \n",
       "2                  19      20150831  \n",
       "3                 191      20150831  \n",
       "4                 245      20150831  "
      ]
     },
     "execution_count": 5,
     "metadata": {},
     "output_type": "execute_result"
    }
   ],
   "source": [
    "third_pass.head()"
   ]
  },
  {
   "cell_type": "code",
   "execution_count": 6,
   "metadata": {},
   "outputs": [
    {
     "data": {
      "text/html": [
       "<div>\n",
       "<style scoped>\n",
       "    .dataframe tbody tr th:only-of-type {\n",
       "        vertical-align: middle;\n",
       "    }\n",
       "\n",
       "    .dataframe tbody tr th {\n",
       "        vertical-align: top;\n",
       "    }\n",
       "\n",
       "    .dataframe thead th {\n",
       "        text-align: right;\n",
       "    }\n",
       "</style>\n",
       "<table border=\"1\" class=\"dataframe\">\n",
       "  <thead>\n",
       "    <tr style=\"text-align: right;\">\n",
       "      <th></th>\n",
       "      <th>Star_Rating</th>\n",
       "      <th>Total_Votes</th>\n",
       "      <th>Length_Review_Body</th>\n",
       "      <th>Integer_Date</th>\n",
       "    </tr>\n",
       "  </thead>\n",
       "  <tbody>\n",
       "    <tr>\n",
       "      <th>count</th>\n",
       "      <td>2.668988e+06</td>\n",
       "      <td>2.668988e+06</td>\n",
       "      <td>2.668988e+06</td>\n",
       "      <td>2.668988e+06</td>\n",
       "    </tr>\n",
       "    <tr>\n",
       "      <th>mean</th>\n",
       "      <td>4.548807e+00</td>\n",
       "      <td>2.016235e+00</td>\n",
       "      <td>2.627587e+02</td>\n",
       "      <td>2.013937e+07</td>\n",
       "    </tr>\n",
       "    <tr>\n",
       "      <th>std</th>\n",
       "      <td>9.299195e-01</td>\n",
       "      <td>1.392677e+01</td>\n",
       "      <td>5.752927e+02</td>\n",
       "      <td>9.203452e+03</td>\n",
       "    </tr>\n",
       "    <tr>\n",
       "      <th>min</th>\n",
       "      <td>1.000000e+00</td>\n",
       "      <td>0.000000e+00</td>\n",
       "      <td>1.000000e+00</td>\n",
       "      <td>2.012050e+07</td>\n",
       "    </tr>\n",
       "    <tr>\n",
       "      <th>25%</th>\n",
       "      <td>4.000000e+00</td>\n",
       "      <td>0.000000e+00</td>\n",
       "      <td>6.800000e+01</td>\n",
       "      <td>2.013082e+07</td>\n",
       "    </tr>\n",
       "    <tr>\n",
       "      <th>50%</th>\n",
       "      <td>5.000000e+00</td>\n",
       "      <td>0.000000e+00</td>\n",
       "      <td>1.400000e+02</td>\n",
       "      <td>2.014063e+07</td>\n",
       "    </tr>\n",
       "    <tr>\n",
       "      <th>75%</th>\n",
       "      <td>5.000000e+00</td>\n",
       "      <td>1.000000e+00</td>\n",
       "      <td>2.620000e+02</td>\n",
       "      <td>2.015020e+07</td>\n",
       "    </tr>\n",
       "    <tr>\n",
       "      <th>max</th>\n",
       "      <td>5.000000e+00</td>\n",
       "      <td>4.756000e+03</td>\n",
       "      <td>4.952100e+04</td>\n",
       "      <td>2.015083e+07</td>\n",
       "    </tr>\n",
       "  </tbody>\n",
       "</table>\n",
       "</div>"
      ],
      "text/plain": [
       "        Star_Rating   Total_Votes  Length_Review_Body  Integer_Date\n",
       "count  2.668988e+06  2.668988e+06        2.668988e+06  2.668988e+06\n",
       "mean   4.548807e+00  2.016235e+00        2.627587e+02  2.013937e+07\n",
       "std    9.299195e-01  1.392677e+01        5.752927e+02  9.203452e+03\n",
       "min    1.000000e+00  0.000000e+00        1.000000e+00  2.012050e+07\n",
       "25%    4.000000e+00  0.000000e+00        6.800000e+01  2.013082e+07\n",
       "50%    5.000000e+00  0.000000e+00        1.400000e+02  2.014063e+07\n",
       "75%    5.000000e+00  1.000000e+00        2.620000e+02  2.015020e+07\n",
       "max    5.000000e+00  4.756000e+03        4.952100e+04  2.015083e+07"
      ]
     },
     "execution_count": 6,
     "metadata": {},
     "output_type": "execute_result"
    }
   ],
   "source": [
    "# Basic describe. Notably most reviews have a star rating of 5 \n",
    "third_pass.describe()"
   ]
  },
  {
   "cell_type": "code",
   "execution_count": 7,
   "metadata": {},
   "outputs": [
    {
     "name": "stdout",
     "output_type": "stream",
     "text": [
      "20120503 20150831\n"
     ]
    }
   ],
   "source": [
    "# Min and Max of date\n",
    "print(third_pass['Integer_Date'].min(), third_pass['Integer_Date'].max())"
   ]
  },
  {
   "cell_type": "code",
   "execution_count": 8,
   "metadata": {},
   "outputs": [
    {
     "data": {
      "text/plain": [
       "5    1994101\n",
       "4     366531\n",
       "3     160601\n",
       "2      74524\n",
       "1      73231\n",
       "Name: Star_Rating, dtype: int64"
      ]
     },
     "execution_count": 8,
     "metadata": {},
     "output_type": "execute_result"
    }
   ],
   "source": [
    "# Of the 2.7 million reviews, almost 2 million are 5's \n",
    "third_pass['Star_Rating'].value_counts()"
   ]
  },
  {
   "cell_type": "code",
   "execution_count": 9,
   "metadata": {},
   "outputs": [
    {
     "data": {
      "text/html": [
       "<div>\n",
       "<style scoped>\n",
       "    .dataframe tbody tr th:only-of-type {\n",
       "        vertical-align: middle;\n",
       "    }\n",
       "\n",
       "    .dataframe tbody tr th {\n",
       "        vertical-align: top;\n",
       "    }\n",
       "\n",
       "    .dataframe thead th {\n",
       "        text-align: right;\n",
       "    }\n",
       "</style>\n",
       "<table border=\"1\" class=\"dataframe\">\n",
       "  <thead>\n",
       "    <tr style=\"text-align: right;\">\n",
       "      <th></th>\n",
       "      <th>Total_Votes</th>\n",
       "      <th>Length_Review_Body</th>\n",
       "      <th>Integer_Date</th>\n",
       "    </tr>\n",
       "    <tr>\n",
       "      <th>Star_Rating</th>\n",
       "      <th></th>\n",
       "      <th></th>\n",
       "      <th></th>\n",
       "    </tr>\n",
       "  </thead>\n",
       "  <tbody>\n",
       "    <tr>\n",
       "      <th>1</th>\n",
       "      <td>14.537969</td>\n",
       "      <td>412.209938</td>\n",
       "      <td>2.013875e+07</td>\n",
       "    </tr>\n",
       "    <tr>\n",
       "      <th>2</th>\n",
       "      <td>6.375450</td>\n",
       "      <td>438.537022</td>\n",
       "      <td>2.013856e+07</td>\n",
       "    </tr>\n",
       "    <tr>\n",
       "      <th>3</th>\n",
       "      <td>3.669728</td>\n",
       "      <td>358.287196</td>\n",
       "      <td>2.013880e+07</td>\n",
       "    </tr>\n",
       "    <tr>\n",
       "      <th>4</th>\n",
       "      <td>1.454605</td>\n",
       "      <td>303.058407</td>\n",
       "      <td>2.013872e+07</td>\n",
       "    </tr>\n",
       "    <tr>\n",
       "      <th>5</th>\n",
       "      <td>1.363538</td>\n",
       "      <td>235.599957</td>\n",
       "      <td>2.013959e+07</td>\n",
       "    </tr>\n",
       "  </tbody>\n",
       "</table>\n",
       "</div>"
      ],
      "text/plain": [
       "             Total_Votes  Length_Review_Body  Integer_Date\n",
       "Star_Rating                                               \n",
       "1              14.537969          412.209938  2.013875e+07\n",
       "2               6.375450          438.537022  2.013856e+07\n",
       "3               3.669728          358.287196  2.013880e+07\n",
       "4               1.454605          303.058407  2.013872e+07\n",
       "5               1.363538          235.599957  2.013959e+07"
      ]
     },
     "execution_count": 9,
     "metadata": {},
     "output_type": "execute_result"
    }
   ],
   "source": [
    "# Average review length and average total votes for each star rating\n",
    "third_pass.groupby(['Star_Rating']).mean()"
   ]
  },
  {
   "cell_type": "code",
   "execution_count": 12,
   "metadata": {},
   "outputs": [],
   "source": [
    "# How do the trends change over time?\n",
    "star_by_date = third_pass[['Star_Rating', 'Review_Date']].groupby('Review_Date').mean().reset_index()"
   ]
  },
  {
   "cell_type": "code",
   "execution_count": 13,
   "metadata": {},
   "outputs": [
    {
     "data": {
      "text/html": [
       "<div>\n",
       "<style scoped>\n",
       "    .dataframe tbody tr th:only-of-type {\n",
       "        vertical-align: middle;\n",
       "    }\n",
       "\n",
       "    .dataframe tbody tr th {\n",
       "        vertical-align: top;\n",
       "    }\n",
       "\n",
       "    .dataframe thead th {\n",
       "        text-align: right;\n",
       "    }\n",
       "</style>\n",
       "<table border=\"1\" class=\"dataframe\">\n",
       "  <thead>\n",
       "    <tr style=\"text-align: right;\">\n",
       "      <th></th>\n",
       "      <th>Review_Date</th>\n",
       "      <th>Star_Rating</th>\n",
       "    </tr>\n",
       "  </thead>\n",
       "  <tbody>\n",
       "    <tr>\n",
       "      <th>0</th>\n",
       "      <td>2012-05-03</td>\n",
       "      <td>4.447937</td>\n",
       "    </tr>\n",
       "    <tr>\n",
       "      <th>1</th>\n",
       "      <td>2012-05-04</td>\n",
       "      <td>4.332721</td>\n",
       "    </tr>\n",
       "    <tr>\n",
       "      <th>2</th>\n",
       "      <td>2012-05-05</td>\n",
       "      <td>4.421659</td>\n",
       "    </tr>\n",
       "    <tr>\n",
       "      <th>3</th>\n",
       "      <td>2012-05-06</td>\n",
       "      <td>4.312360</td>\n",
       "    </tr>\n",
       "    <tr>\n",
       "      <th>4</th>\n",
       "      <td>2012-05-07</td>\n",
       "      <td>4.325217</td>\n",
       "    </tr>\n",
       "  </tbody>\n",
       "</table>\n",
       "</div>"
      ],
      "text/plain": [
       "  Review_Date  Star_Rating\n",
       "0  2012-05-03     4.447937\n",
       "1  2012-05-04     4.332721\n",
       "2  2012-05-05     4.421659\n",
       "3  2012-05-06     4.312360\n",
       "4  2012-05-07     4.325217"
      ]
     },
     "execution_count": 13,
     "metadata": {},
     "output_type": "execute_result"
    }
   ],
   "source": [
    "star_by_date.head()"
   ]
  },
  {
   "cell_type": "code",
   "execution_count": 15,
   "metadata": {},
   "outputs": [
    {
     "data": {
      "text/plain": [
       "[<matplotlib.lines.Line2D at 0x7fae9c0b21c0>]"
      ]
     },
     "execution_count": 15,
     "metadata": {},
     "output_type": "execute_result"
    },
    {
     "data": {
      "image/png": "[encoded data removed]",
      "text/plain": [
       "<Figure size 432x288 with 1 Axes>"
      ]
     },
     "metadata": {
      "needs_background": "light"
     },
     "output_type": "display_data"
    }
   ],
   "source": [
    "# Average star rating by date over time\n",
    "plt.plot(star_by_date['Review_Date'], star_by_date['Star_Rating'])"
   ]
  },
  {
   "cell_type": "code",
   "execution_count": 16,
   "metadata": {},
   "outputs": [
    {
     "data": {
      "text/plain": [
       "[<matplotlib.lines.Line2D at 0x7fae9cbdaf40>]"
      ]
     },
     "execution_count": 16,
     "metadata": {},
     "output_type": "execute_result"
    },
    {
     "data": {
      "image/png": "[encoded data removed]",
      "text/plain": [
       "<Figure size 432x288 with 1 Axes>"
      ]
     },
     "metadata": {
      "needs_background": "light"
     },
     "output_type": "display_data"
    }
   ],
   "source": [
    "plt.plot(star_by_date['Star_Rating']) # can look more into why it seems to flow up and down on the ratings of reviews"
   ]
  },
  {
   "cell_type": "code",
   "execution_count": null,
   "metadata": {},
   "outputs": [],
   "source": []
  }
 ],
 "metadata": {
  "kernelspec": {
   "display_name": "Python 3",
   "language": "python",
   "name": "python3"
  },
  "language_info": {
   "codemirror_mode": {
    "name": "ipython",
    "version": 3
   },
   "file_extension": ".py",
   "mimetype": "text/x-python",
   "name": "python",
   "nbconvert_exporter": "python",
   "pygments_lexer": "ipython3",
   "version": "3.8.3"
  }
 },
 "nbformat": 4,
 "nbformat_minor": 4
}
