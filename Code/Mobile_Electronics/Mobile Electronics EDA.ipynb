{
 "cells": [
  {
   "cell_type": "markdown",
   "metadata": {},
   "source": [
    "# Mobile Electronics - Data Generation, Pre-processing, and EDA"
   ]
  },
  {
   "cell_type": "markdown",
   "metadata": {},
   "source": [
    "### Loading the data\n",
    "- Using the tsv link, I loaded the data using pandas. I had to use error_bad_lines=False to skip any lines that were bad\n",
    "- Only skipped 2 lines out of almost 105,000 rows, which is great"
   ]
  },
  {
   "cell_type": "code",
   "execution_count": 1,
   "metadata": {},
   "outputs": [
    {
     "name": "stderr",
     "output_type": "stream",
     "text": [
      "b'Skipping line 35246: expected 15 fields, saw 22\\n'\n",
      "b'Skipping line 87073: expected 15 fields, saw 22\\n'\n"
     ]
    }
   ],
   "source": [
    "import pandas as pd\n",
    "\n",
    "url = 'https://s3.amazonaws.com/amazon-reviews-pds/tsv/amazon_reviews_us_Mobile_Electronics_v1_00.tsv.gz'\n",
    "\n",
    "df = pd.read_csv(url, sep='\\t', error_bad_lines=False)"
   ]
  },
  {
   "cell_type": "markdown",
   "metadata": {},
   "source": [
    "### Taking a look at the data structure, checking for nulls"
   ]
  },
  {
   "cell_type": "code",
   "execution_count": 2,
   "metadata": {},
   "outputs": [
    {
     "data": {
      "text/plain": [
       "(104852, 15)"
      ]
     },
     "execution_count": 2,
     "metadata": {},
     "output_type": "execute_result"
    }
   ],
   "source": [
    "df.shape"
   ]
  },
  {
   "cell_type": "code",
   "execution_count": 3,
   "metadata": {},
   "outputs": [
    {
     "data": {
      "text/html": [
       "<div>\n",
       "<style scoped>\n",
       "    .dataframe tbody tr th:only-of-type {\n",
       "        vertical-align: middle;\n",
       "    }\n",
       "\n",
       "    .dataframe tbody tr th {\n",
       "        vertical-align: top;\n",
       "    }\n",
       "\n",
       "    .dataframe thead th {\n",
       "        text-align: right;\n",
       "    }\n",
       "</style>\n",
       "<table border=\"1\" class=\"dataframe\">\n",
       "  <thead>\n",
       "    <tr style=\"text-align: right;\">\n",
       "      <th></th>\n",
       "      <th>marketplace</th>\n",
       "      <th>customer_id</th>\n",
       "      <th>review_id</th>\n",
       "      <th>product_id</th>\n",
       "      <th>product_parent</th>\n",
       "      <th>product_title</th>\n",
       "      <th>product_category</th>\n",
       "      <th>star_rating</th>\n",
       "      <th>helpful_votes</th>\n",
       "      <th>total_votes</th>\n",
       "      <th>vine</th>\n",
       "      <th>verified_purchase</th>\n",
       "      <th>review_headline</th>\n",
       "      <th>review_body</th>\n",
       "      <th>review_date</th>\n",
       "    </tr>\n",
       "  </thead>\n",
       "  <tbody>\n",
       "    <tr>\n",
       "      <th>0</th>\n",
       "      <td>US</td>\n",
       "      <td>20422322</td>\n",
       "      <td>R8MEA6IGAHO0B</td>\n",
       "      <td>B00MC4CED8</td>\n",
       "      <td>217304173</td>\n",
       "      <td>BlackVue DR600GW-PMP</td>\n",
       "      <td>Mobile_Electronics</td>\n",
       "      <td>5.0</td>\n",
       "      <td>0.0</td>\n",
       "      <td>0.0</td>\n",
       "      <td>N</td>\n",
       "      <td>Y</td>\n",
       "      <td>Very Happy!</td>\n",
       "      <td>As advertised. Everything works perfectly, I'm...</td>\n",
       "      <td>2015-08-31</td>\n",
       "    </tr>\n",
       "    <tr>\n",
       "      <th>1</th>\n",
       "      <td>US</td>\n",
       "      <td>40835037</td>\n",
       "      <td>R31LOQ8JGLPRLK</td>\n",
       "      <td>B00OQMFG1Q</td>\n",
       "      <td>137313254</td>\n",
       "      <td>GENSSI GSM / GPS Two Way Smart Phone Car Alarm...</td>\n",
       "      <td>Mobile_Electronics</td>\n",
       "      <td>5.0</td>\n",
       "      <td>0.0</td>\n",
       "      <td>1.0</td>\n",
       "      <td>N</td>\n",
       "      <td>Y</td>\n",
       "      <td>five star</td>\n",
       "      <td>it's great</td>\n",
       "      <td>2015-08-31</td>\n",
       "    </tr>\n",
       "    <tr>\n",
       "      <th>2</th>\n",
       "      <td>US</td>\n",
       "      <td>51469641</td>\n",
       "      <td>R2Y0MM9YE6OP3P</td>\n",
       "      <td>B00QERR5CY</td>\n",
       "      <td>82850235</td>\n",
       "      <td>iXCC Multi pack Lightning cable</td>\n",
       "      <td>Mobile_Electronics</td>\n",
       "      <td>5.0</td>\n",
       "      <td>0.0</td>\n",
       "      <td>0.0</td>\n",
       "      <td>N</td>\n",
       "      <td>Y</td>\n",
       "      <td>great cables</td>\n",
       "      <td>These work great and fit my life proof case fo...</td>\n",
       "      <td>2015-08-31</td>\n",
       "    </tr>\n",
       "    <tr>\n",
       "      <th>3</th>\n",
       "      <td>US</td>\n",
       "      <td>4332923</td>\n",
       "      <td>RRB9C05HDOD4O</td>\n",
       "      <td>B00QUFTPV4</td>\n",
       "      <td>221169481</td>\n",
       "      <td>abcGoodefg® FBI Covert Acoustic Tube Earpiece ...</td>\n",
       "      <td>Mobile_Electronics</td>\n",
       "      <td>4.0</td>\n",
       "      <td>0.0</td>\n",
       "      <td>0.0</td>\n",
       "      <td>N</td>\n",
       "      <td>Y</td>\n",
       "      <td>Work very well but couldn't get used to not he...</td>\n",
       "      <td>Work very well but couldn't get used to not he...</td>\n",
       "      <td>2015-08-31</td>\n",
       "    </tr>\n",
       "    <tr>\n",
       "      <th>4</th>\n",
       "      <td>US</td>\n",
       "      <td>44855305</td>\n",
       "      <td>R26I2RI1GFV8QG</td>\n",
       "      <td>B0067XVNTG</td>\n",
       "      <td>563475445</td>\n",
       "      <td>Generic Car Dashboard Video Camera Vehicle Vid...</td>\n",
       "      <td>Mobile_Electronics</td>\n",
       "      <td>2.0</td>\n",
       "      <td>0.0</td>\n",
       "      <td>0.0</td>\n",
       "      <td>N</td>\n",
       "      <td>Y</td>\n",
       "      <td>Cameras has battery issues</td>\n",
       "      <td>Be careful with these products, I have bought ...</td>\n",
       "      <td>2015-08-31</td>\n",
       "    </tr>\n",
       "  </tbody>\n",
       "</table>\n",
       "</div>"
      ],
      "text/plain": [
       "  marketplace  customer_id       review_id  product_id  product_parent  \\\n",
       "0          US     20422322   R8MEA6IGAHO0B  B00MC4CED8       217304173   \n",
       "1          US     40835037  R31LOQ8JGLPRLK  B00OQMFG1Q       137313254   \n",
       "2          US     51469641  R2Y0MM9YE6OP3P  B00QERR5CY        82850235   \n",
       "3          US      4332923   RRB9C05HDOD4O  B00QUFTPV4       221169481   \n",
       "4          US     44855305  R26I2RI1GFV8QG  B0067XVNTG       563475445   \n",
       "\n",
       "                                       product_title    product_category  \\\n",
       "0                               BlackVue DR600GW-PMP  Mobile_Electronics   \n",
       "1  GENSSI GSM / GPS Two Way Smart Phone Car Alarm...  Mobile_Electronics   \n",
       "2                    iXCC Multi pack Lightning cable  Mobile_Electronics   \n",
       "3  abcGoodefg® FBI Covert Acoustic Tube Earpiece ...  Mobile_Electronics   \n",
       "4  Generic Car Dashboard Video Camera Vehicle Vid...  Mobile_Electronics   \n",
       "\n",
       "   star_rating  helpful_votes  total_votes vine verified_purchase  \\\n",
       "0          5.0            0.0          0.0    N                 Y   \n",
       "1          5.0            0.0          1.0    N                 Y   \n",
       "2          5.0            0.0          0.0    N                 Y   \n",
       "3          4.0            0.0          0.0    N                 Y   \n",
       "4          2.0            0.0          0.0    N                 Y   \n",
       "\n",
       "                                     review_headline  \\\n",
       "0                                        Very Happy!   \n",
       "1                                          five star   \n",
       "2                                       great cables   \n",
       "3  Work very well but couldn't get used to not he...   \n",
       "4                         Cameras has battery issues   \n",
       "\n",
       "                                         review_body review_date  \n",
       "0  As advertised. Everything works perfectly, I'm...  2015-08-31  \n",
       "1                                         it's great  2015-08-31  \n",
       "2  These work great and fit my life proof case fo...  2015-08-31  \n",
       "3  Work very well but couldn't get used to not he...  2015-08-31  \n",
       "4  Be careful with these products, I have bought ...  2015-08-31  "
      ]
     },
     "execution_count": 3,
     "metadata": {},
     "output_type": "execute_result"
    }
   ],
   "source": [
    "df.head()"
   ]
  },
  {
   "cell_type": "code",
   "execution_count": 4,
   "metadata": {},
   "outputs": [
    {
     "data": {
      "text/plain": [
       "marketplace          0\n",
       "customer_id          0\n",
       "review_id            0\n",
       "product_id           0\n",
       "product_parent       0\n",
       "product_title        0\n",
       "product_category     0\n",
       "star_rating          2\n",
       "helpful_votes        2\n",
       "total_votes          2\n",
       "vine                 2\n",
       "verified_purchase    2\n",
       "review_headline      4\n",
       "review_body          3\n",
       "review_date          2\n",
       "dtype: int64"
      ]
     },
     "execution_count": 4,
     "metadata": {},
     "output_type": "execute_result"
    }
   ],
   "source": [
    "df.isnull().sum()"
   ]
  },
  {
   "cell_type": "markdown",
   "metadata": {},
   "source": [
    "### Removing nulls\n",
    "- only a few null values, so I'm just going to remove them for simplicities sake"
   ]
  },
  {
   "cell_type": "code",
   "execution_count": 5,
   "metadata": {},
   "outputs": [
    {
     "name": "stdout",
     "output_type": "stream",
     "text": [
      "Rows Lost:  5\n"
     ]
    },
    {
     "data": {
      "text/plain": [
       "marketplace          0\n",
       "customer_id          0\n",
       "review_id            0\n",
       "product_id           0\n",
       "product_parent       0\n",
       "product_title        0\n",
       "product_category     0\n",
       "star_rating          0\n",
       "helpful_votes        0\n",
       "total_votes          0\n",
       "vine                 0\n",
       "verified_purchase    0\n",
       "review_headline      0\n",
       "review_body          0\n",
       "review_date          0\n",
       "dtype: int64"
      ]
     },
     "execution_count": 5,
     "metadata": {},
     "output_type": "execute_result"
    }
   ],
   "source": [
    "before_length = len(df)\n",
    "df = df.dropna()\n",
    "print (\"Rows Lost: \", before_length - len(df))\n",
    "df.isnull().sum()"
   ]
  },
  {
   "cell_type": "markdown",
   "metadata": {},
   "source": [
    "Let's see how many unique products we are working with and calculate number of reviews and average star rating"
   ]
  },
  {
   "cell_type": "code",
   "execution_count": 6,
   "metadata": {},
   "outputs": [
    {
     "name": "stdout",
     "output_type": "stream",
     "text": [
      "Unique Products:  25785\n"
     ]
    },
    {
     "data": {
      "text/html": [
       "<div>\n",
       "<style scoped>\n",
       "    .dataframe tbody tr th:only-of-type {\n",
       "        vertical-align: middle;\n",
       "    }\n",
       "\n",
       "    .dataframe tbody tr th {\n",
       "        vertical-align: top;\n",
       "    }\n",
       "\n",
       "    .dataframe thead th {\n",
       "        text-align: right;\n",
       "    }\n",
       "</style>\n",
       "<table border=\"1\" class=\"dataframe\">\n",
       "  <thead>\n",
       "    <tr style=\"text-align: right;\">\n",
       "      <th></th>\n",
       "      <th>product_id</th>\n",
       "      <th>product_title</th>\n",
       "      <th>num_reviews</th>\n",
       "      <th>star_rating</th>\n",
       "    </tr>\n",
       "  </thead>\n",
       "  <tbody>\n",
       "    <tr>\n",
       "      <th>21904</th>\n",
       "      <td>B00J46XO9U</td>\n",
       "      <td>iXCC Lightning Cable 3ft, iPhone charger, for ...</td>\n",
       "      <td>1078</td>\n",
       "      <td>4.376623</td>\n",
       "    </tr>\n",
       "    <tr>\n",
       "      <th>7648</th>\n",
       "      <td>B004911E9M</td>\n",
       "      <td>Wall AC Charger USB Sync Data Cable for iPhone...</td>\n",
       "      <td>730</td>\n",
       "      <td>2.427397</td>\n",
       "    </tr>\n",
       "    <tr>\n",
       "      <th>4059</th>\n",
       "      <td>B002D4IHYM</td>\n",
       "      <td>New Trent Easypak 7000mAh Portable Triple USB ...</td>\n",
       "      <td>690</td>\n",
       "      <td>4.530435</td>\n",
       "    </tr>\n",
       "    <tr>\n",
       "      <th>19199</th>\n",
       "      <td>B00E5PI594</td>\n",
       "      <td>Apple USB Lightning Cable 9ft -NEW 2014 for iO...</td>\n",
       "      <td>615</td>\n",
       "      <td>3.598374</td>\n",
       "    </tr>\n",
       "    <tr>\n",
       "      <th>11775</th>\n",
       "      <td>B005S1CYO6</td>\n",
       "      <td>Kindle Fire anti-glare Screen Protector</td>\n",
       "      <td>599</td>\n",
       "      <td>2.722871</td>\n",
       "    </tr>\n",
       "    <tr>\n",
       "      <th>...</th>\n",
       "      <td>...</td>\n",
       "      <td>...</td>\n",
       "      <td>...</td>\n",
       "      <td>...</td>\n",
       "    </tr>\n",
       "    <tr>\n",
       "      <th>3310</th>\n",
       "      <td>B001MC0XH0</td>\n",
       "      <td>Creative Zen X-fi Leather Carrying Case for Ze...</td>\n",
       "      <td>1</td>\n",
       "      <td>4.000000</td>\n",
       "    </tr>\n",
       "    <tr>\n",
       "      <th>3305</th>\n",
       "      <td>B001M5V2WC</td>\n",
       "      <td>Flip Leather Carrying Case with Belt Clip for ...</td>\n",
       "      <td>1</td>\n",
       "      <td>5.000000</td>\n",
       "    </tr>\n",
       "    <tr>\n",
       "      <th>3304</th>\n",
       "      <td>B001M5RQ0E</td>\n",
       "      <td>Flip Leather Carrying Case with Belt Clip for ...</td>\n",
       "      <td>1</td>\n",
       "      <td>5.000000</td>\n",
       "    </tr>\n",
       "    <tr>\n",
       "      <th>3301</th>\n",
       "      <td>B001M5LOKC</td>\n",
       "      <td>Premium Silicone Skin for Sony Walkman E436 / ...</td>\n",
       "      <td>1</td>\n",
       "      <td>4.000000</td>\n",
       "    </tr>\n",
       "    <tr>\n",
       "      <th>25793</th>\n",
       "      <td>B01HSW9NCS</td>\n",
       "      <td>iXCC Multi pack Lightning cable</td>\n",
       "      <td>1</td>\n",
       "      <td>5.000000</td>\n",
       "    </tr>\n",
       "  </tbody>\n",
       "</table>\n",
       "<p>25794 rows × 4 columns</p>\n",
       "</div>"
      ],
      "text/plain": [
       "       product_id                                      product_title  \\\n",
       "21904  B00J46XO9U  iXCC Lightning Cable 3ft, iPhone charger, for ...   \n",
       "7648   B004911E9M  Wall AC Charger USB Sync Data Cable for iPhone...   \n",
       "4059   B002D4IHYM  New Trent Easypak 7000mAh Portable Triple USB ...   \n",
       "19199  B00E5PI594  Apple USB Lightning Cable 9ft -NEW 2014 for iO...   \n",
       "11775  B005S1CYO6            Kindle Fire anti-glare Screen Protector   \n",
       "...           ...                                                ...   \n",
       "3310   B001MC0XH0  Creative Zen X-fi Leather Carrying Case for Ze...   \n",
       "3305   B001M5V2WC  Flip Leather Carrying Case with Belt Clip for ...   \n",
       "3304   B001M5RQ0E  Flip Leather Carrying Case with Belt Clip for ...   \n",
       "3301   B001M5LOKC  Premium Silicone Skin for Sony Walkman E436 / ...   \n",
       "25793  B01HSW9NCS                    iXCC Multi pack Lightning cable   \n",
       "\n",
       "       num_reviews  star_rating  \n",
       "21904         1078     4.376623  \n",
       "7648           730     2.427397  \n",
       "4059           690     4.530435  \n",
       "19199          615     3.598374  \n",
       "11775          599     2.722871  \n",
       "...            ...          ...  \n",
       "3310             1     4.000000  \n",
       "3305             1     5.000000  \n",
       "3304             1     5.000000  \n",
       "3301             1     4.000000  \n",
       "25793            1     5.000000  \n",
       "\n",
       "[25794 rows x 4 columns]"
      ]
     },
     "execution_count": 6,
     "metadata": {},
     "output_type": "execute_result"
    }
   ],
   "source": [
    "print (\"Unique Products: \", len(df['product_id'].unique()))\n",
    "products = (df[['product_id', 'product_title', 'review_id', 'star_rating']]\n",
    " .groupby(['product_id', 'product_title'])\n",
    " .agg({'review_id': 'count', 'star_rating': 'mean'})\n",
    " .reset_index()\n",
    " .rename(columns={'review_id':'num_reviews'})\n",
    " .sort_values('num_reviews', ascending=False))\n",
    "\n",
    "products"
   ]
  },
  {
   "cell_type": "markdown",
   "metadata": {},
   "source": [
    "Before we do any further analysis on the products, we may have to set a number of review threshold on the products since products with very little reviews would not give us enough of a sample size to gain any insights. Let's see the frequency distribution for number of reviews:"
   ]
  },
  {
   "cell_type": "code",
   "execution_count": 7,
   "metadata": {},
   "outputs": [
    {
     "data": {
      "text/plain": [
       "0.0       1.0\n",
       "0.1       1.0\n",
       "0.2       1.0\n",
       "0.3       1.0\n",
       "0.4       1.0\n",
       "0.5       1.0\n",
       "0.6       2.0\n",
       "0.7       2.0\n",
       "0.8       3.0\n",
       "0.9       6.0\n",
       "1.0    1078.0\n",
       "Name: num_reviews, dtype: float64"
      ]
     },
     "execution_count": 7,
     "metadata": {},
     "output_type": "execute_result"
    }
   ],
   "source": [
    "products['num_reviews'].quantile([0, .1, .2, .3, .4, .5, .6, .7, .8, .9, 1.0])"
   ]
  },
  {
   "cell_type": "markdown",
   "metadata": {},
   "source": [
    "Looks like 90% of the products contain 6 or fewer reviews. I'm just going to choose an arbitrary number of 30 reviews to use as a cutoff. That gives us 459 products to work with."
   ]
  },
  {
   "cell_type": "code",
   "execution_count": 8,
   "metadata": {},
   "outputs": [
    {
     "data": {
      "text/html": [
       "<div>\n",
       "<style scoped>\n",
       "    .dataframe tbody tr th:only-of-type {\n",
       "        vertical-align: middle;\n",
       "    }\n",
       "\n",
       "    .dataframe tbody tr th {\n",
       "        vertical-align: top;\n",
       "    }\n",
       "\n",
       "    .dataframe thead th {\n",
       "        text-align: right;\n",
       "    }\n",
       "</style>\n",
       "<table border=\"1\" class=\"dataframe\">\n",
       "  <thead>\n",
       "    <tr style=\"text-align: right;\">\n",
       "      <th></th>\n",
       "      <th>product_id</th>\n",
       "      <th>product_title</th>\n",
       "      <th>num_reviews</th>\n",
       "      <th>star_rating</th>\n",
       "    </tr>\n",
       "  </thead>\n",
       "  <tbody>\n",
       "    <tr>\n",
       "      <th>21904</th>\n",
       "      <td>B00J46XO9U</td>\n",
       "      <td>iXCC Lightning Cable 3ft, iPhone charger, for ...</td>\n",
       "      <td>1078</td>\n",
       "      <td>4.376623</td>\n",
       "    </tr>\n",
       "    <tr>\n",
       "      <th>7648</th>\n",
       "      <td>B004911E9M</td>\n",
       "      <td>Wall AC Charger USB Sync Data Cable for iPhone...</td>\n",
       "      <td>730</td>\n",
       "      <td>2.427397</td>\n",
       "    </tr>\n",
       "    <tr>\n",
       "      <th>4059</th>\n",
       "      <td>B002D4IHYM</td>\n",
       "      <td>New Trent Easypak 7000mAh Portable Triple USB ...</td>\n",
       "      <td>690</td>\n",
       "      <td>4.530435</td>\n",
       "    </tr>\n",
       "    <tr>\n",
       "      <th>19199</th>\n",
       "      <td>B00E5PI594</td>\n",
       "      <td>Apple USB Lightning Cable 9ft -NEW 2014 for iO...</td>\n",
       "      <td>615</td>\n",
       "      <td>3.598374</td>\n",
       "    </tr>\n",
       "    <tr>\n",
       "      <th>11775</th>\n",
       "      <td>B005S1CYO6</td>\n",
       "      <td>Kindle Fire anti-glare Screen Protector</td>\n",
       "      <td>599</td>\n",
       "      <td>2.722871</td>\n",
       "    </tr>\n",
       "    <tr>\n",
       "      <th>...</th>\n",
       "      <td>...</td>\n",
       "      <td>...</td>\n",
       "      <td>...</td>\n",
       "      <td>...</td>\n",
       "    </tr>\n",
       "    <tr>\n",
       "      <th>23647</th>\n",
       "      <td>B00N2MEGB2</td>\n",
       "      <td>G1W-C Capacitor Model Dashboard Dash Cam - Hea...</td>\n",
       "      <td>30</td>\n",
       "      <td>3.366667</td>\n",
       "    </tr>\n",
       "    <tr>\n",
       "      <th>14215</th>\n",
       "      <td>B0085M17CA</td>\n",
       "      <td>Brightline Bags - Flex System - B10 Classic</td>\n",
       "      <td>30</td>\n",
       "      <td>4.500000</td>\n",
       "    </tr>\n",
       "    <tr>\n",
       "      <th>2899</th>\n",
       "      <td>B001EZ402O</td>\n",
       "      <td>11 Assorted Colors Silicone Pouch Compatible w...</td>\n",
       "      <td>30</td>\n",
       "      <td>4.700000</td>\n",
       "    </tr>\n",
       "    <tr>\n",
       "      <th>13732</th>\n",
       "      <td>B007VE8Z3C</td>\n",
       "      <td>Dancing Cat Speaker BROWN</td>\n",
       "      <td>30</td>\n",
       "      <td>3.466667</td>\n",
       "    </tr>\n",
       "    <tr>\n",
       "      <th>14112</th>\n",
       "      <td>B0083MIG4Y</td>\n",
       "      <td>ReVIVE Series Solar ReStore BST - External Bac...</td>\n",
       "      <td>30</td>\n",
       "      <td>3.533333</td>\n",
       "    </tr>\n",
       "  </tbody>\n",
       "</table>\n",
       "<p>459 rows × 4 columns</p>\n",
       "</div>"
      ],
      "text/plain": [
       "       product_id                                      product_title  \\\n",
       "21904  B00J46XO9U  iXCC Lightning Cable 3ft, iPhone charger, for ...   \n",
       "7648   B004911E9M  Wall AC Charger USB Sync Data Cable for iPhone...   \n",
       "4059   B002D4IHYM  New Trent Easypak 7000mAh Portable Triple USB ...   \n",
       "19199  B00E5PI594  Apple USB Lightning Cable 9ft -NEW 2014 for iO...   \n",
       "11775  B005S1CYO6            Kindle Fire anti-glare Screen Protector   \n",
       "...           ...                                                ...   \n",
       "23647  B00N2MEGB2  G1W-C Capacitor Model Dashboard Dash Cam - Hea...   \n",
       "14215  B0085M17CA        Brightline Bags - Flex System - B10 Classic   \n",
       "2899   B001EZ402O  11 Assorted Colors Silicone Pouch Compatible w...   \n",
       "13732  B007VE8Z3C                          Dancing Cat Speaker BROWN   \n",
       "14112  B0083MIG4Y  ReVIVE Series Solar ReStore BST - External Bac...   \n",
       "\n",
       "       num_reviews  star_rating  \n",
       "21904         1078     4.376623  \n",
       "7648           730     2.427397  \n",
       "4059           690     4.530435  \n",
       "19199          615     3.598374  \n",
       "11775          599     2.722871  \n",
       "...            ...          ...  \n",
       "23647           30     3.366667  \n",
       "14215           30     4.500000  \n",
       "2899            30     4.700000  \n",
       "13732           30     3.466667  \n",
       "14112           30     3.533333  \n",
       "\n",
       "[459 rows x 4 columns]"
      ]
     },
     "execution_count": 8,
     "metadata": {},
     "output_type": "execute_result"
    }
   ],
   "source": [
    "top_products = products[products['num_reviews'] >= 30]\n",
    "top_products"
   ]
  },
  {
   "cell_type": "markdown",
   "metadata": {},
   "source": [
    "Let's look at the frequency distribution for star ratings to see if they are skewed to one end or the other. Average and median star rating is 3.836 and 3.948, respectively. Given that and the frequency distribution below, very little reviews generate a 1 or 2 rating."
   ]
  },
  {
   "cell_type": "code",
   "execution_count": 9,
   "metadata": {},
   "outputs": [
    {
     "name": "stdout",
     "output_type": "stream",
     "text": [
      "Mean star rating:  3.8360986652735183\n"
     ]
    },
    {
     "data": {
      "text/plain": [
       "0.0    1.625000\n",
       "0.1    2.949405\n",
       "0.2    3.295090\n",
       "0.3    3.535667\n",
       "0.4    3.771389\n",
       "0.5    3.948276\n",
       "0.6    4.118171\n",
       "0.7    4.262657\n",
       "0.8    4.421520\n",
       "0.9    4.568339\n",
       "1.0    4.913793\n",
       "Name: star_rating, dtype: float64"
      ]
     },
     "execution_count": 9,
     "metadata": {},
     "output_type": "execute_result"
    }
   ],
   "source": [
    "print (\"Mean star rating: \", top_products['star_rating'].mean())\n",
    "top_products['star_rating'].quantile([0, .1, .2, .3, .4, .5, .6, .7, .8, .9, 1])"
   ]
  },
  {
   "cell_type": "markdown",
   "metadata": {},
   "source": [
    "### Top 10 products by number of reviews"
   ]
  },
  {
   "cell_type": "code",
   "execution_count": 10,
   "metadata": {},
   "outputs": [
    {
     "data": {
      "text/html": [
       "<div>\n",
       "<style scoped>\n",
       "    .dataframe tbody tr th:only-of-type {\n",
       "        vertical-align: middle;\n",
       "    }\n",
       "\n",
       "    .dataframe tbody tr th {\n",
       "        vertical-align: top;\n",
       "    }\n",
       "\n",
       "    .dataframe thead th {\n",
       "        text-align: right;\n",
       "    }\n",
       "</style>\n",
       "<table border=\"1\" class=\"dataframe\">\n",
       "  <thead>\n",
       "    <tr style=\"text-align: right;\">\n",
       "      <th></th>\n",
       "      <th>product_id</th>\n",
       "      <th>product_title</th>\n",
       "      <th>num_reviews</th>\n",
       "      <th>star_rating</th>\n",
       "    </tr>\n",
       "  </thead>\n",
       "  <tbody>\n",
       "    <tr>\n",
       "      <th>21904</th>\n",
       "      <td>B00J46XO9U</td>\n",
       "      <td>iXCC Lightning Cable 3ft, iPhone charger, for iPhone X, 8, 8 Plus, 7, 7 Plus, 6s, 6s Plus, 6, 6 Plus, SE 5s 5c 5, iPad Air 2 Pro, iPad mini 2 3 4, iPad 4th Gen [Apple MFi Certified](Black and White)</td>\n",
       "      <td>1078</td>\n",
       "      <td>4.376623</td>\n",
       "    </tr>\n",
       "    <tr>\n",
       "      <th>7648</th>\n",
       "      <td>B004911E9M</td>\n",
       "      <td>Wall AC Charger USB Sync Data Cable for iPhone 4, 3GS, and iPod</td>\n",
       "      <td>730</td>\n",
       "      <td>2.427397</td>\n",
       "    </tr>\n",
       "    <tr>\n",
       "      <th>4059</th>\n",
       "      <td>B002D4IHYM</td>\n",
       "      <td>New Trent Easypak 7000mAh Portable Triple USB Port External Battery Charger/Power Pack for Smartphones, Tablets and more (w/built-in USB cable)</td>\n",
       "      <td>690</td>\n",
       "      <td>4.530435</td>\n",
       "    </tr>\n",
       "    <tr>\n",
       "      <th>19199</th>\n",
       "      <td>B00E5PI594</td>\n",
       "      <td>Apple USB Lightning Cable 9ft -NEW 2014 for iOS 7 - iSmooth's 2nd Generation Apple Lightning Compatible (iOS 7 compatible) Cable Designed to Sync and Charge iPhone 5, iPhone 5S, iPhone 5C, iPad Mini, iPad Mini 2, iPad 5, iPad 4th Generation, iPod Nano (7th Generation), iPod Touch (5th Generation 16GB, 32GB, 64GB) - Premium Quality - The ONLY Cable with a 10-Year Guarantee!</td>\n",
       "      <td>615</td>\n",
       "      <td>3.598374</td>\n",
       "    </tr>\n",
       "    <tr>\n",
       "      <th>11775</th>\n",
       "      <td>B005S1CYO6</td>\n",
       "      <td>Kindle Fire anti-glare Screen Protector</td>\n",
       "      <td>599</td>\n",
       "      <td>2.722871</td>\n",
       "    </tr>\n",
       "    <tr>\n",
       "      <th>14953</th>\n",
       "      <td>B008R68DFS</td>\n",
       "      <td>Patazon Black Extension Dock Extender 30pin Adapter for iPod iPhone 4 4S</td>\n",
       "      <td>577</td>\n",
       "      <td>3.459272</td>\n",
       "    </tr>\n",
       "    <tr>\n",
       "      <th>12244</th>\n",
       "      <td>B0067XVNTG</td>\n",
       "      <td>Generic Car Dashboard Video Camera Vehicle Video Accident Recorder (2.0\" 1080P)</td>\n",
       "      <td>502</td>\n",
       "      <td>2.697211</td>\n",
       "    </tr>\n",
       "    <tr>\n",
       "      <th>2431</th>\n",
       "      <td>B00166G81M</td>\n",
       "      <td>2-Port USB Car Charger Adapter</td>\n",
       "      <td>481</td>\n",
       "      <td>3.299376</td>\n",
       "    </tr>\n",
       "    <tr>\n",
       "      <th>6539</th>\n",
       "      <td>B003TPQBJW</td>\n",
       "      <td>splash Masque Clear Screen Protector for iPhone 4 4G  4S AT&amp;T and Verizon (3-Pack + 2 Bonus Back Films)</td>\n",
       "      <td>464</td>\n",
       "      <td>3.564655</td>\n",
       "    </tr>\n",
       "    <tr>\n",
       "      <th>10215</th>\n",
       "      <td>B0052RMI2Y</td>\n",
       "      <td>USB Power Wall Charger + Syn Data Cable for Apple iPod Touch iPhone 4 4S 3G 3GS</td>\n",
       "      <td>464</td>\n",
       "      <td>2.797414</td>\n",
       "    </tr>\n",
       "  </tbody>\n",
       "</table>\n",
       "</div>"
      ],
      "text/plain": [
       "       product_id  \\\n",
       "21904  B00J46XO9U   \n",
       "7648   B004911E9M   \n",
       "4059   B002D4IHYM   \n",
       "19199  B00E5PI594   \n",
       "11775  B005S1CYO6   \n",
       "14953  B008R68DFS   \n",
       "12244  B0067XVNTG   \n",
       "2431   B00166G81M   \n",
       "6539   B003TPQBJW   \n",
       "10215  B0052RMI2Y   \n",
       "\n",
       "                                                                                                                                                                                                                                                                                                                                                                                 product_title  \\\n",
       "21904                                                                                                                                                                                   iXCC Lightning Cable 3ft, iPhone charger, for iPhone X, 8, 8 Plus, 7, 7 Plus, 6s, 6s Plus, 6, 6 Plus, SE 5s 5c 5, iPad Air 2 Pro, iPad mini 2 3 4, iPad 4th Gen [Apple MFi Certified](Black and White)   \n",
       "7648                                                                                                                                                                                                                                                                                                                           Wall AC Charger USB Sync Data Cable for iPhone 4, 3GS, and iPod   \n",
       "4059                                                                                                                                                                                                                                           New Trent Easypak 7000mAh Portable Triple USB Port External Battery Charger/Power Pack for Smartphones, Tablets and more (w/built-in USB cable)   \n",
       "19199  Apple USB Lightning Cable 9ft -NEW 2014 for iOS 7 - iSmooth's 2nd Generation Apple Lightning Compatible (iOS 7 compatible) Cable Designed to Sync and Charge iPhone 5, iPhone 5S, iPhone 5C, iPad Mini, iPad Mini 2, iPad 5, iPad 4th Generation, iPod Nano (7th Generation), iPod Touch (5th Generation 16GB, 32GB, 64GB) - Premium Quality - The ONLY Cable with a 10-Year Guarantee!   \n",
       "11775                                                                                                                                                                                                                                                                                                                                                  Kindle Fire anti-glare Screen Protector   \n",
       "14953                                                                                                                                                                                                                                                                                                                 Patazon Black Extension Dock Extender 30pin Adapter for iPod iPhone 4 4S   \n",
       "12244                                                                                                                                                                                                                                                                                                          Generic Car Dashboard Video Camera Vehicle Video Accident Recorder (2.0\" 1080P)   \n",
       "2431                                                                                                                                                                                                                                                                                                                                                            2-Port USB Car Charger Adapter   \n",
       "6539                                                                                                                                                                                                                                                                                   splash Masque Clear Screen Protector for iPhone 4 4G  4S AT&T and Verizon (3-Pack + 2 Bonus Back Films)   \n",
       "10215                                                                                                                                                                                                                                                                                                          USB Power Wall Charger + Syn Data Cable for Apple iPod Touch iPhone 4 4S 3G 3GS   \n",
       "\n",
       "       num_reviews  star_rating  \n",
       "21904         1078     4.376623  \n",
       "7648           730     2.427397  \n",
       "4059           690     4.530435  \n",
       "19199          615     3.598374  \n",
       "11775          599     2.722871  \n",
       "14953          577     3.459272  \n",
       "12244          502     2.697211  \n",
       "2431           481     3.299376  \n",
       "6539           464     3.564655  \n",
       "10215          464     2.797414  "
      ]
     },
     "execution_count": 10,
     "metadata": {},
     "output_type": "execute_result"
    }
   ],
   "source": [
    "pd.set_option(\"max_colwidth\", 400)\n",
    "top_products.head(10)"
   ]
  },
  {
   "cell_type": "markdown",
   "metadata": {},
   "source": [
    "- 6 out of the 10 products are for Apple products\n",
    "- I thought I would see a lot of highly rated products having the most reviews but that's not the case"
   ]
  },
  {
   "cell_type": "markdown",
   "metadata": {},
   "source": [
    "### Top 10 products by star rating"
   ]
  },
  {
   "cell_type": "code",
   "execution_count": 11,
   "metadata": {},
   "outputs": [
    {
     "data": {
      "text/html": [
       "<div>\n",
       "<style scoped>\n",
       "    .dataframe tbody tr th:only-of-type {\n",
       "        vertical-align: middle;\n",
       "    }\n",
       "\n",
       "    .dataframe tbody tr th {\n",
       "        vertical-align: top;\n",
       "    }\n",
       "\n",
       "    .dataframe thead th {\n",
       "        text-align: right;\n",
       "    }\n",
       "</style>\n",
       "<table border=\"1\" class=\"dataframe\">\n",
       "  <thead>\n",
       "    <tr style=\"text-align: right;\">\n",
       "      <th></th>\n",
       "      <th>product_id</th>\n",
       "      <th>product_title</th>\n",
       "      <th>num_reviews</th>\n",
       "      <th>star_rating</th>\n",
       "    </tr>\n",
       "  </thead>\n",
       "  <tbody>\n",
       "    <tr>\n",
       "      <th>1780</th>\n",
       "      <td>B000UGLIXC</td>\n",
       "      <td>Shoe Pouch for Nike+ iPod Sport Kit, and Nike+ SportBand (2-Pack), Also Fits Adidas miCoach Speed Cell and Garmin Foot Pod</td>\n",
       "      <td>58</td>\n",
       "      <td>4.913793</td>\n",
       "    </tr>\n",
       "    <tr>\n",
       "      <th>2468</th>\n",
       "      <td>B00172WYWM</td>\n",
       "      <td>Tuneband for iPod nano 4th Generation, Armband Compatible with Nike+iPod System</td>\n",
       "      <td>127</td>\n",
       "      <td>4.874016</td>\n",
       "    </tr>\n",
       "    <tr>\n",
       "      <th>13399</th>\n",
       "      <td>B007MJD5I6</td>\n",
       "      <td>eForCity Leather Case for Barnes and Noble Nook 2 / Simple Touch, Purple</td>\n",
       "      <td>68</td>\n",
       "      <td>4.838235</td>\n",
       "    </tr>\n",
       "    <tr>\n",
       "      <th>5500</th>\n",
       "      <td>B00361ERPE</td>\n",
       "      <td>Ram Mount Handlebar Mount for Garmin Nuvi 500 and 550</td>\n",
       "      <td>39</td>\n",
       "      <td>4.820513</td>\n",
       "    </tr>\n",
       "    <tr>\n",
       "      <th>17242</th>\n",
       "      <td>B00B2HTMMW</td>\n",
       "      <td>Eco-Fused Case Bundle for Apple iPod Touch 4 including 4 Polka Dot Covers / 2 Stylus Pens / 2 Screen Protectors / Microfiber Cleaning Cloth (Green, Blue, Purple, Yellow)</td>\n",
       "      <td>90</td>\n",
       "      <td>4.811111</td>\n",
       "    </tr>\n",
       "    <tr>\n",
       "      <th>19213</th>\n",
       "      <td>B00E657DAA</td>\n",
       "      <td>Bose SoundLink Mini Bluetooth Speaker, Upto 30 ft Wireless Range, Silver - Bundle - with Bose SoundLink Mini Bluetooth Speaker Travel Bag</td>\n",
       "      <td>93</td>\n",
       "      <td>4.806452</td>\n",
       "    </tr>\n",
       "    <tr>\n",
       "      <th>16055</th>\n",
       "      <td>B00A02QLVA</td>\n",
       "      <td>Pioneer GM-D8601 Class D Mono Amplifier with Wired Bass Boost Remote</td>\n",
       "      <td>36</td>\n",
       "      <td>4.805556</td>\n",
       "    </tr>\n",
       "    <tr>\n",
       "      <th>23548</th>\n",
       "      <td>B00MWGREM2</td>\n",
       "      <td>0 Gauge Amp Kit Amplifier Install Wiring 1/0 Ga Power Installation Cables 4000W</td>\n",
       "      <td>36</td>\n",
       "      <td>4.805556</td>\n",
       "    </tr>\n",
       "    <tr>\n",
       "      <th>10191</th>\n",
       "      <td>B0052NZYXI</td>\n",
       "      <td>AYL (TM) Portable Mini Speaker System for PC / Phone / Tablet / Apple iPod Touch / iPhone 4 / iPad / MP3 Player (Black)</td>\n",
       "      <td>263</td>\n",
       "      <td>4.787072</td>\n",
       "    </tr>\n",
       "    <tr>\n",
       "      <th>8912</th>\n",
       "      <td>B004MKNJCU</td>\n",
       "      <td>Manfrotto MM294A4 294 Aluminum 4 Section Monopod</td>\n",
       "      <td>42</td>\n",
       "      <td>4.785714</td>\n",
       "    </tr>\n",
       "  </tbody>\n",
       "</table>\n",
       "</div>"
      ],
      "text/plain": [
       "       product_id  \\\n",
       "1780   B000UGLIXC   \n",
       "2468   B00172WYWM   \n",
       "13399  B007MJD5I6   \n",
       "5500   B00361ERPE   \n",
       "17242  B00B2HTMMW   \n",
       "19213  B00E657DAA   \n",
       "16055  B00A02QLVA   \n",
       "23548  B00MWGREM2   \n",
       "10191  B0052NZYXI   \n",
       "8912   B004MKNJCU   \n",
       "\n",
       "                                                                                                                                                                   product_title  \\\n",
       "1780                                                  Shoe Pouch for Nike+ iPod Sport Kit, and Nike+ SportBand (2-Pack), Also Fits Adidas miCoach Speed Cell and Garmin Foot Pod   \n",
       "2468                                                                                             Tuneband for iPod nano 4th Generation, Armband Compatible with Nike+iPod System   \n",
       "13399                                                                                                   eForCity Leather Case for Barnes and Noble Nook 2 / Simple Touch, Purple   \n",
       "5500                                                                                                                       Ram Mount Handlebar Mount for Garmin Nuvi 500 and 550   \n",
       "17242  Eco-Fused Case Bundle for Apple iPod Touch 4 including 4 Polka Dot Covers / 2 Stylus Pens / 2 Screen Protectors / Microfiber Cleaning Cloth (Green, Blue, Purple, Yellow)   \n",
       "19213                                  Bose SoundLink Mini Bluetooth Speaker, Upto 30 ft Wireless Range, Silver - Bundle - with Bose SoundLink Mini Bluetooth Speaker Travel Bag   \n",
       "16055                                                                                                       Pioneer GM-D8601 Class D Mono Amplifier with Wired Bass Boost Remote   \n",
       "23548                                                                                            0 Gauge Amp Kit Amplifier Install Wiring 1/0 Ga Power Installation Cables 4000W   \n",
       "10191                                                    AYL (TM) Portable Mini Speaker System for PC / Phone / Tablet / Apple iPod Touch / iPhone 4 / iPad / MP3 Player (Black)   \n",
       "8912                                                                                                                            Manfrotto MM294A4 294 Aluminum 4 Section Monopod   \n",
       "\n",
       "       num_reviews  star_rating  \n",
       "1780            58     4.913793  \n",
       "2468           127     4.874016  \n",
       "13399           68     4.838235  \n",
       "5500            39     4.820513  \n",
       "17242           90     4.811111  \n",
       "19213           93     4.806452  \n",
       "16055           36     4.805556  \n",
       "23548           36     4.805556  \n",
       "10191          263     4.787072  \n",
       "8912            42     4.785714  "
      ]
     },
     "execution_count": 11,
     "metadata": {},
     "output_type": "execute_result"
    }
   ],
   "source": [
    "top_products.sort_values('star_rating', ascending=False).head(10)"
   ]
  },
  {
   "cell_type": "markdown",
   "metadata": {},
   "source": [
    "- a lot of the top rated products have under 100 reviews"
   ]
  },
  {
   "cell_type": "markdown",
   "metadata": {},
   "source": [
    "One thing I'm curious to see is if there is any relationship between the length of the review and its star rating... ie do people who hate a product leave longer reviews or do people who love a product leave longer reviews. I'm going to perform a simple estimate of word counts to get the review length for now in order to get a rough idea. I'll only be looking at products that had 30 or more reviews."
   ]
  },
  {
   "cell_type": "code",
   "execution_count": 12,
   "metadata": {},
   "outputs": [
    {
     "data": {
      "text/html": [
       "<div>\n",
       "<style scoped>\n",
       "    .dataframe tbody tr th:only-of-type {\n",
       "        vertical-align: middle;\n",
       "    }\n",
       "\n",
       "    .dataframe tbody tr th {\n",
       "        vertical-align: top;\n",
       "    }\n",
       "\n",
       "    .dataframe thead th {\n",
       "        text-align: right;\n",
       "    }\n",
       "</style>\n",
       "<table border=\"1\" class=\"dataframe\">\n",
       "  <thead>\n",
       "    <tr style=\"text-align: right;\">\n",
       "      <th></th>\n",
       "      <th>review_length</th>\n",
       "    </tr>\n",
       "    <tr>\n",
       "      <th>star_rating</th>\n",
       "      <th></th>\n",
       "    </tr>\n",
       "  </thead>\n",
       "  <tbody>\n",
       "    <tr>\n",
       "      <th>1.0</th>\n",
       "      <td>62.705260</td>\n",
       "    </tr>\n",
       "    <tr>\n",
       "      <th>2.0</th>\n",
       "      <td>75.975524</td>\n",
       "    </tr>\n",
       "    <tr>\n",
       "      <th>3.0</th>\n",
       "      <td>77.058979</td>\n",
       "    </tr>\n",
       "    <tr>\n",
       "      <th>4.0</th>\n",
       "      <td>80.600704</td>\n",
       "    </tr>\n",
       "    <tr>\n",
       "      <th>5.0</th>\n",
       "      <td>58.821352</td>\n",
       "    </tr>\n",
       "  </tbody>\n",
       "</table>\n",
       "</div>"
      ],
      "text/plain": [
       "             review_length\n",
       "star_rating               \n",
       "1.0              62.705260\n",
       "2.0              75.975524\n",
       "3.0              77.058979\n",
       "4.0              80.600704\n",
       "5.0              58.821352"
      ]
     },
     "execution_count": 12,
     "metadata": {},
     "output_type": "execute_result"
    }
   ],
   "source": [
    "product_universe = top_products['product_id'].tolist()\n",
    "review_universe = df[df['product_id'].isin(product_universe)][['product_id', 'star_rating', 'review_body']]\n",
    "review_universe['review_length'] = review_universe['review_body'].str.count(' ') + 1\n",
    "review_universe.groupby('star_rating').mean()"
   ]
  },
  {
   "cell_type": "markdown",
   "metadata": {},
   "source": [
    "Looks like the most review words come from the middle ratings range of 2 - 4, perhaps explaining why they took stars off or gave more than one star?? The least amount of review words come from the worst review score, 1, and best review score, 5.\n",
    "\n",
    "\n",
    "After looking at some reviews manually, there are some emojis included in some of the reviews. We'd like to capture the meaning behind the emoji since it could be useful with eventually feeding into a machine learning algorithm. For that, I'm going to use the `demoji` Python package. This can be installed by using `pip install demoji`, then after imported, we'll download the current emojis from the repository since emojis are constanly being added and changed."
   ]
  },
  {
   "cell_type": "code",
   "execution_count": 13,
   "metadata": {},
   "outputs": [
    {
     "name": "stdout",
     "output_type": "stream",
     "text": [
      "Downloading emoji data ...\n",
      "... OK (Got response in 0.17 seconds)\n",
      "Writing emoji data to /Users/kmf229/.demoji/codes.json ...\n",
      "... OK\n"
     ]
    }
   ],
   "source": [
    "import demoji\n",
    "\n",
    "demoji.download_codes()"
   ]
  },
  {
   "cell_type": "markdown",
   "metadata": {},
   "source": [
    "Let's run a test to see what we get"
   ]
  },
  {
   "cell_type": "code",
   "execution_count": 14,
   "metadata": {},
   "outputs": [
    {
     "name": "stdout",
     "output_type": "stream",
     "text": [
      "<class 'str'> {'👍🏽': 'thumbs up: medium skin tone'}\n",
      "<class 'str'> {'👍': 'thumbs up'}\n",
      "<class 'str'> {'😁': 'beaming face with smiling eyes'}\n",
      "<class 'str'> {}\n"
     ]
    }
   ],
   "source": [
    "emoji_test = ['👍🏽', '👍', '😁', 'no emoji here']\n",
    "for i in emoji_test:\n",
    "    print (type(i), demoji.findall(i))"
   ]
  },
  {
   "cell_type": "markdown",
   "metadata": {},
   "source": [
    "Perfect, let's create a quick function that processes some text and turns any emoji's into text."
   ]
  },
  {
   "cell_type": "code",
   "execution_count": 64,
   "metadata": {},
   "outputs": [
    {
     "data": {
      "text/plain": [
       "'I give this product a thumbs up beaming face with smiling eyes with an extra thumbs up and thumbs up beaming face with smiling eyes '"
      ]
     },
     "execution_count": 64,
     "metadata": {},
     "output_type": "execute_result"
    }
   ],
   "source": [
    "import re\n",
    "\n",
    "def process_emojis(text):\n",
    "    #Detect any emojis in text string\n",
    "    found_emojis = demoji.findall(text)\n",
    "    if found_emojis:\n",
    "        #Loop through each emoji found\n",
    "        for key, value in found_emojis.items():\n",
    "            #replace with emoji text.. add spaces to account for emoji's right next to each other\n",
    "            text = (text.replace(key, ' ' + value[:value.find(':') if ':' in value else len(value)] + ' ')\n",
    "                    .replace('🏽', ''))\n",
    "        #using regex to find double spaces and replace with single space, then return new text string\n",
    "        return re.sub(' +', ' ', text)\n",
    "    return text\n",
    "\n",
    "review_test = 'I give this product a 👍🏽😁 with an extra 👍 and👍😁'\n",
    "process_emojis(review_test)"
   ]
  },
  {
   "cell_type": "markdown",
   "metadata": {},
   "source": [
    "Taking a random sample of reviews that have emojis, the function appears to be working. Although I would say the registered symbol comes up a lot, but I wouldn't really think of that as an emoji, may want to omit."
   ]
  },
  {
   "cell_type": "code",
   "execution_count": 74,
   "metadata": {},
   "outputs": [
    {
     "name": "stdout",
     "output_type": "stream",
     "text": [
      "Emoji's Found:  {'😢': 'crying face'}\n",
      "Original Text:  This case is a pretty good case if u want to show off your iPod color but when I put mine on it scratched my iPod on the upper left corner and bottom right corner...<br />Kinda regret even putting it on :/😢\n",
      "\n",
      "\n",
      "Processed Text:  This case is a pretty good case if u want to show off your iPod color but when I put mine on it scratched my iPod on the upper left corner and bottom right corner...<br />Kinda regret even putting it on :/ crying face \n",
      "-----------------------------------\n",
      "Emoji's Found:  {'®': 'registered'}\n",
      "Original Text:  I have gotten a couple of Sentey speakers previously and loved them. This one is no exception. Small enough to be portable. Will play music up to about 6 hours of continuous use. Music is great quality. and I LOVE the blue color! Really stands out from the ordinary sea of black!<br /><br />Specs: Built-in Mic for Hands free<br />up 6 Hours of Battery - Rechargeable<br />AUX Line in makes it compatible with many 3.5 mm connector devices such as<br />Gaming Headset - Music Headphones - any device with 3.5 mm connector<br />Allows Music Playback From Various Sources<br /><br />Compatible with any Bluetooth® Device As MacBook, MacBook Pro, PCs , Notebook<br />Desktop, Portables PCs, Smartphones, Smartwatch , iPhone 6, Samsung Galaxy<br />Tablets , Sunglass , Bluetooth Headset , Tablet PC<br />Recharges quickly with any USB car chargers, power bank, wall USB chargers<br /><br />10 Meter - 33 Feet Range - Rechargeable Lithium Ion Battery<br />Rubber Painting<br />Package contents: Sentey B-TREK Portable Bluetooth Speaker - 3.5 mm audio cable<br />instruction manual. 12-month warranty and free lifetime technical support.<br />Unrivalled playtime powered by Rechargeable Li-ion battery.<br />Outstanding connection range of up to 33 feet.<br /><br />Built-in microphone with a 2-feet pickup range allows the speaker to double as a speaker phone.<br />Multiple colors Black, White, Red, Blue, Purple, and Pink.<br />It also allows you to have hands free conversation<br />Recharges quickly with any USB car chargers, power bank, wall USB chargers<br /><br />It also has hands free functionality with one touch answer and a 3.5mm line in. - iPhone 6 and iPhone 6 plus compatible<br />It also uniquely features a 3.5 mm line out so you can make any external speaker a Bluetooth® compatible one<br />Wireless Bluetooth® Technology ! Do not accept old technologies, protect your investment!\n",
      "\n",
      "\n",
      "Processed Text:  I have gotten a couple of Sentey speakers previously and loved them. This one is no exception. Small enough to be portable. Will play music up to about 6 hours of continuous use. Music is great quality. and I LOVE the blue color! Really stands out from the ordinary sea of black!<br /><br />Specs: Built-in Mic for Hands free<br />up 6 Hours of Battery - Rechargeable<br />AUX Line in makes it compatible with many 3.5 mm connector devices such as<br />Gaming Headset - Music Headphones - any device with 3.5 mm connector<br />Allows Music Playback From Various Sources<br /><br />Compatible with any Bluetooth registered Device As MacBook, MacBook Pro, PCs , Notebook<br />Desktop, Portables PCs, Smartphones, Smartwatch , iPhone 6, Samsung Galaxy<br />Tablets , Sunglass , Bluetooth Headset , Tablet PC<br />Recharges quickly with any USB car chargers, power bank, wall USB chargers<br /><br />10 Meter - 33 Feet Range - Rechargeable Lithium Ion Battery<br />Rubber Painting<br />Package contents: Sentey B-TREK Portable Bluetooth Speaker - 3.5 mm audio cable<br />instruction manual. 12-month warranty and free lifetime technical support.<br />Unrivalled playtime powered by Rechargeable Li-ion battery.<br />Outstanding connection range of up to 33 feet.<br /><br />Built-in microphone with a 2-feet pickup range allows the speaker to double as a speaker phone.<br />Multiple colors Black, White, Red, Blue, Purple, and Pink.<br />It also allows you to have hands free conversation<br />Recharges quickly with any USB car chargers, power bank, wall USB chargers<br /><br />It also has hands free functionality with one touch answer and a 3.5mm line in. - iPhone 6 and iPhone 6 plus compatible<br />It also uniquely features a 3.5 mm line out so you can make any external speaker a Bluetooth registered compatible one<br />Wireless Bluetooth registered Technology ! Do not accept old technologies, protect your investment!\n",
      "-----------------------------------\n",
      "Emoji's Found:  {'®': 'registered'}\n",
      "Original Text:  I absolutely love this battery. I've recently been having problems with my smartphone battery dying by mid-day (long story) while I'm out and about with work. I'm not near a electrical outlet most of the time so I decided to give this battery a shot. I was able to use my phone continuously all day long with it plugged into the battery pack and didn't even drain half of the juice from it. And all of that for less than $50 was a nice bonus.<br /><br />Now the unit isn't perfect. My only gripe with it is that the LED lights displaying it's charge level only illuminate when the battery itself is being charged (while plugged into the wall, for example) not while it's charging a device. It would be nice to know how much longer the battery can charge your device. But I was still willing to rate it 5 stars because of how portable it is (fits in a dress shirt pocket). I've very happy with my purchase. I was considering purchasing a similar Energizer unit for about the same price but it was only 5000mAh.<br /><br />Pros:<br />- tremendous amount of charging power<br />- very portable (small for the amount of power it provides)<br />- works with any smartphone that can charge from USB<br />- can charge two devices at once<br />- has a 2.1amp port for charging tablets and phones very fast<br /><br />Cons:<br />- battery meter doesn't display how much juice the batter has left while charging your device<br /><br />Edited 5/24/2010<br />----------------<br />I'm disappointed to report that the battery has given up the ghost after only a year of light use (used it maybe 20 times for trips). It will still take a charge (battery shows that it's full) but it will no longer charge any other devices. I thought maybe it was a faulty cable but buying another one didn't correct it. And there is absolutely no tech support available anywhere for New Trent products from what I can tell. I was expecting more. Decided to buy a 10,000mAh Anker ([[ASIN:B009USAJCC Anker® Astro3E 10000mAh High Capacity Power Bank Pack Portable External Battery Charger for iPhone 5, 4S, 4,iPad 4, 3, 2, Mini, iPods; Samsung Galaxy S4, S3, S2, Note 2; HTC One, EVO, Thunderbolt, Incredible, Droid DNA; Motorola ATRIX, Droid; Google Nex...]]]) to replace it.pacity Power Bank Pack Portable External Battery Charger for iPhone 5, 4S, 4,iPad 4, 3, 2, Mini, iPods; Samsung Galaxy S4, S3, S2, Note 2; HTC One, EVO, Thunderbolt, Incredible, Droid DNA; Motorola ATRIX, Droid; Google Nex...]]]) to replace it.\n",
      "\n",
      "\n"
     ]
    },
    {
     "name": "stdout",
     "output_type": "stream",
     "text": [
      "Processed Text:  I absolutely love this battery. I've recently been having problems with my smartphone battery dying by mid-day (long story) while I'm out and about with work. I'm not near a electrical outlet most of the time so I decided to give this battery a shot. I was able to use my phone continuously all day long with it plugged into the battery pack and didn't even drain half of the juice from it. And all of that for less than $50 was a nice bonus.<br /><br />Now the unit isn't perfect. My only gripe with it is that the LED lights displaying it's charge level only illuminate when the battery itself is being charged (while plugged into the wall, for example) not while it's charging a device. It would be nice to know how much longer the battery can charge your device. But I was still willing to rate it 5 stars because of how portable it is (fits in a dress shirt pocket). I've very happy with my purchase. I was considering purchasing a similar Energizer unit for about the same price but it was only 5000mAh.<br /><br />Pros:<br />- tremendous amount of charging power<br />- very portable (small for the amount of power it provides)<br />- works with any smartphone that can charge from USB<br />- can charge two devices at once<br />- has a 2.1amp port for charging tablets and phones very fast<br /><br />Cons:<br />- battery meter doesn't display how much juice the batter has left while charging your device<br /><br />Edited 5/24/2010<br />----------------<br />I'm disappointed to report that the battery has given up the ghost after only a year of light use (used it maybe 20 times for trips). It will still take a charge (battery shows that it's full) but it will no longer charge any other devices. I thought maybe it was a faulty cable but buying another one didn't correct it. And there is absolutely no tech support available anywhere for New Trent products from what I can tell. I was expecting more. Decided to buy a 10,000mAh Anker ([[ASIN:B009USAJCC Anker registered Astro3E 10000mAh High Capacity Power Bank Pack Portable External Battery Charger for iPhone 5, 4S, 4,iPad 4, 3, 2, Mini, iPods; Samsung Galaxy S4, S3, S2, Note 2; HTC One, EVO, Thunderbolt, Incredible, Droid DNA; Motorola ATRIX, Droid; Google Nex...]]]) to replace it.pacity Power Bank Pack Portable External Battery Charger for iPhone 5, 4S, 4,iPad 4, 3, 2, Mini, iPods; Samsung Galaxy S4, S3, S2, Note 2; HTC One, EVO, Thunderbolt, Incredible, Droid DNA; Motorola ATRIX, Droid; Google Nex...]]]) to replace it.\n",
      "-----------------------------------\n",
      "Emoji's Found:  {'☺': 'smiling face'}\n",
      "Original Text:  Bought this for my husband. He had borrowed one when going on a trip and was convinced it would be beneficial for us. He uses it quite often, even when he knows where he is. ☺\n",
      "\n",
      "\n",
      "Processed Text:  Bought this for my husband. He had borrowed one when going on a trip and was convinced it would be beneficial for us. He uses it quite often, even when he knows where he is. smiling face \n",
      "-----------------------------------\n",
      "Emoji's Found:  {'😔': 'pensive face'}\n",
      "Original Text:  the first charger I've had that has worked great with my phone until today, the tip broke off in my phone, thankfully I was able to get it out but the charger is broken😔\n",
      "\n",
      "\n",
      "Processed Text:  the first charger I've had that has worked great with my phone until today, the tip broke off in my phone, thankfully I was able to get it out but the charger is broken pensive face \n",
      "-----------------------------------\n",
      "Emoji's Found:  {'👍🏻': 'thumbs up: light skin tone'}\n",
      "Original Text:  They work 👍🏻\n",
      "\n",
      "\n",
      "Processed Text:  They work thumbs up \n",
      "-----------------------------------\n",
      "Emoji's Found:  {'®': 'registered'}\n"
     ]
    },
    {
     "name": "stdout",
     "output_type": "stream",
     "text": [
      "Original Text:  I've been in the market for an e-book reader for a long time now. I didn't want to get just anything and have been researching the iPad, the Kindle, Nook, and the Sony Reader. I chose the Reader because I liked the exclusive with Google Books, and it appeared to be the least-tethered and most-open of all the e-book readers. A week into it, I've had a complete change of heart, and am now contemplating the Apple iPad as its successor.<br /><br />I've spent the last 4+ weeks looking at every single e-reader on the market. My wife and I love to read and when Apple came out with the iPad, she had to have it, and that pretty much ended the debate right there as far as her choice. I was a little more scrutinizing as far as what I was willing to spend, and what I wanted. I know that sounds like the typical male-versus-female shopping taste but I didn't want a $500 ebook reader, and didn't need a tablet computer--just something I could read books on, reliably, and was easy to use.<br /><br />After having a few weeks playing with my wife's iPad, I had a good idea of what I wanted by this point. So following the recent price drop by Sony, I bought the PRS-600BC from my local discount warehouse store (not Costco, but close) and took it home to try it.<br /><br />What I liked...<br />The size of the the Touch Reader is absolutely ideal and fits in my coat pocket. It's excellent as far as size and battery, can't say that enough. The included stylus that slides into the side of the screen is nifty, and I liked that the buttons were NOT ON THE SIDES of the reader (ala Kindle) so I don't accidentally hit them and turn the page.<br /><br />What could be better...<br />As much as I thought I'd love the e-ink screen, I was slowly starting to dislike it in low light. I normally read in bed, or on the couch by a 60W lamp. I don't read in super-low light or anything but this book should at least be as easy to read as a paperback in bed. It isn't. I was finding myself straining to read The Apology (by Socrates, thanks to Google Books) in bed. In direct bright light, it's very easy to read but useless if you're used to reading paperbacks.  Sony should have done their homework on this.  The touch screen was descent but could be improved... it was sluggish to respond and options were not (at least for me) well laid out. While I liked that you could change the page orientation from Portrait to Landscape, it was only counter-clockwise (with the bottom 4 buttons on the left).<br /><br />What I hated...<br /><br />The first thing I noticed is that when I clicked \\\\\"Help\\\\\" in the Reader store (which looked reminiscent of the iTunes store) is it said, \\\\\"Page not found.\\\\\"  I figured it was just down for the moment...but it wasn't.  A week later, it still says \\\\\"Page not found.\\\\\"  Strike one.<br /><br />The first direct object of my fury of my scorn has to be the stupid Reader software that comes with it this device. I installed it on our home iMac and it was (to my surprise) part of a flash drive-like partition of the reader that downloads from the internet (rather than the reader).  Ok, that's fine. However, after I had the reader software installed, it asks you to set up an account....two accounts....that must match...otherwise...your Adobe DRM will not match the Sony Reader site....and you will....have a problem.  Why am I speaking with the ellipses? Well, it turns out that you must \\\\\"authorize\\\\\" each and every single device you wish to set up with the Reader store (like iTunes).  That's fine, however, if you want to remove a device, you will need to e-mail, call, or chat with Sony each-and-every time.  I found this out the hard way because I set up the Reader software on my laptop and decided to take it off....which lead me to the grand finale of hate against the person responsible for this abomination of software. Strike two.<br /><br />If you are a Mac owner, you know how easy it is to remove software from your computer--you simply put it in the Trash, right?  Ok, you would think it would be that easy on this, but it isn't.  Sony expects you to know Terminal command lines to uninstall this lovely piece of software.  I will spare you the details but here is a link to the Sony e-support site that contains the terminal command, albeit with the wrong path.<br /><br />This is taken directly from Sony's website...<br /><br />How to uninstall the Reader(tm) Library in the Apple® Mac OS® X operating system.<br />Solution<br /><br />On the main menu, click Go and then click Applications .<br />In the Applications folder, in the right pane, double-click the Utilities folder.<br />In the Utilities folder, double-click Terminal .<br />In the Terminal text window, type the following: sudo /Library/ebookLibrary/uninstall-ReaderLibrary.sh ***<br />NOTE: There is a required space between sudo and /<br /><br />Press ENTER on the keyboard.<br />A confirmation message will appear. Enter your password or leave blank if you do not have a user account password.<br />After a password has been entered or left blank for no password, press ENTER .<br />NOTE: You will receive the message that the Reader Library Uninstall is finished.<br /><br />On the menu, click Terminal and then Quit Terminal to exit the Terminal application.<br />Close all other open windows.<br />NOTE: If the uninstall was done for troubleshooting reasons, you can now reinstall the software.<br /><br />*** - This is the wrong path, Sony has yet to correct it on their website. The correct path is /Library/Reader \\Library/uninstall-ReaderLibrary.sh<br /><br />I'm sorry, but this was just beyond me complicated for just uninstalling software.  Plus, when you see how much garbage this program \\\\\"litters\\\\\" across your Mac in various system and library folders, it's surprising.  It's basically a shell script rather than a simple \\\\\"drag and drop\\\\\" interface.  Strike three, it's going back.<br /><br />I have finally decided that I am going to get an Apple iPad as a replacement and it is currently on order. The iBook store is just far easier to set up and use--I don't have to go through setting up multiple accounts (one through Sony, one for Adobe) that have to be in perfect sync to unlock the DRM on the books. After putting this Reader and the iPad side by side, I can see why people like the iPad so much.pects you to know Terminal command lines to uninstall this lovely piece of software.  I will spare you the details but here is a link to the Sony e-support site that contains the terminal command, albeit with the wrong path.        This is taken directly from Sony's website...    How to uninstall the Reader(tm) Library in the Apple® Mac OS® X operating system.  Solution     On the main menu, click Go and then click Applications .  In the Applications folder, in the right pane, double-click the Utilities folder.  In the Utilities folder, double-click Terminal .  In the Terminal text window, type the following: sudo /Library/ebookLibrary/uninstall-ReaderLibrary.sh ***  NOTE: There is a required space between sudo and /    Press ENTER on the keyboard.  A confirmation message will appear. Enter your password or leave blank if you do not have a user account password.  After a password has been entered or left blank for no password, press ENTER .  NOTE: You will receive the message that the Reader Library Uninstall is finished.    On the menu, click Terminal and then Quit Terminal to exit the Terminal application.  Close all other open windows.  NOTE: If the uninstall was done for troubleshooting reasons, you can now reinstall the software.    *** - This is the wrong path, Sony has yet to correct it on their website. The correct path is /Library/Reader \\Library/uninstall-ReaderLibrary.sh     I'm sorry, but this was just beyond me complicated for just uninstalling software.  Plus, when you see how much garbage this program \\\\\"litters\\\\\" across your Mac in various system and library folders, it's surprising.  It's basically a shell script rather than a simple \\\\\"drag and drop\\\\\" interface.  Strike three, it's going back.    I have finally decided that I am going to get an Apple iPad as a replacement and it is currently on order. The iBook store is just far easier to set up and use--I don't have to go through setting up multiple accounts (one through Sony, one for Adobe) that haveto be in perfect sync to unlock the DRM on the books. After putting this Reader and the iPad side by side, I can see why people like the iPad so much.\n"
     ]
    },
    {
     "name": "stdout",
     "output_type": "stream",
     "text": [
      "\n",
      "\n"
     ]
    },
    {
     "name": "stdout",
     "output_type": "stream",
     "text": [
      "Processed Text:  I've been in the market for an e-book reader for a long time now. I didn't want to get just anything and have been researching the iPad, the Kindle, Nook, and the Sony Reader. I chose the Reader because I liked the exclusive with Google Books, and it appeared to be the least-tethered and most-open of all the e-book readers. A week into it, I've had a complete change of heart, and am now contemplating the Apple iPad as its successor.<br /><br />I've spent the last 4+ weeks looking at every single e-reader on the market. My wife and I love to read and when Apple came out with the iPad, she had to have it, and that pretty much ended the debate right there as far as her choice. I was a little more scrutinizing as far as what I was willing to spend, and what I wanted. I know that sounds like the typical male-versus-female shopping taste but I didn't want a $500 ebook reader, and didn't need a tablet computer--just something I could read books on, reliably, and was easy to use.<br /><br />After having a few weeks playing with my wife's iPad, I had a good idea of what I wanted by this point. So following the recent price drop by Sony, I bought the PRS-600BC from my local discount warehouse store (not Costco, but close) and took it home to try it.<br /><br />What I liked...<br />The size of the the Touch Reader is absolutely ideal and fits in my coat pocket. It's excellent as far as size and battery, can't say that enough. The included stylus that slides into the side of the screen is nifty, and I liked that the buttons were NOT ON THE SIDES of the reader (ala Kindle) so I don't accidentally hit them and turn the page.<br /><br />What could be better...<br />As much as I thought I'd love the e-ink screen, I was slowly starting to dislike it in low light. I normally read in bed, or on the couch by a 60W lamp. I don't read in super-low light or anything but this book should at least be as easy to read as a paperback in bed. It isn't. I was finding myself straining to read The Apology (by Socrates, thanks to Google Books) in bed. In direct bright light, it's very easy to read but useless if you're used to reading paperbacks. Sony should have done their homework on this. The touch screen was descent but could be improved... it was sluggish to respond and options were not (at least for me) well laid out. While I liked that you could change the page orientation from Portrait to Landscape, it was only counter-clockwise (with the bottom 4 buttons on the left).<br /><br />What I hated...<br /><br />The first thing I noticed is that when I clicked \\\\\"Help\\\\\" in the Reader store (which looked reminiscent of the iTunes store) is it said, \\\\\"Page not found.\\\\\" I figured it was just down for the moment...but it wasn't. A week later, it still says \\\\\"Page not found.\\\\\" Strike one.<br /><br />The first direct object of my fury of my scorn has to be the stupid Reader software that comes with it this device. I installed it on our home iMac and it was (to my surprise) part of a flash drive-like partition of the reader that downloads from the internet (rather than the reader). Ok, that's fine. However, after I had the reader software installed, it asks you to set up an account....two accounts....that must match...otherwise...your Adobe DRM will not match the Sony Reader site....and you will....have a problem. Why am I speaking with the ellipses? Well, it turns out that you must \\\\\"authorize\\\\\" each and every single device you wish to set up with the Reader store (like iTunes). That's fine, however, if you want to remove a device, you will need to e-mail, call, or chat with Sony each-and-every time. I found this out the hard way because I set up the Reader software on my laptop and decided to take it off....which lead me to the grand finale of hate against the person responsible for this abomination of software. Strike two.<br /><br />If you are a Mac owner, you know how easy it is to remove software from your computer--you simply put it in the Trash, right? Ok, you would think it would be that easy on this, but it isn't. Sony expects you to know Terminal command lines to uninstall this lovely piece of software. I will spare you the details but here is a link to the Sony e-support site that contains the terminal command, albeit with the wrong path.<br /><br />This is taken directly from Sony's website...<br /><br />How to uninstall the Reader(tm) Library in the Apple registered Mac OS registered X operating system.<br />Solution<br /><br />On the main menu, click Go and then click Applications .<br />In the Applications folder, in the right pane, double-click the Utilities folder.<br />In the Utilities folder, double-click Terminal .<br />In the Terminal text window, type the following: sudo /Library/ebookLibrary/uninstall-ReaderLibrary.sh ***<br />NOTE: There is a required space between sudo and /<br /><br />Press ENTER on the keyboard.<br />A confirmation message will appear. Enter your password or leave blank if you do not have a user account password.<br />After a password has been entered or left blank for no password, press ENTER .<br />NOTE: You will receive the message that the Reader Library Uninstall is finished.<br /><br />On the menu, click Terminal and then Quit Terminal to exit the Terminal application.<br />Close all other open windows.<br />NOTE: If the uninstall was done for troubleshooting reasons, you can now reinstall the software.<br /><br />*** - This is the wrong path, Sony has yet to correct it on their website. The correct path is /Library/Reader \\Library/uninstall-ReaderLibrary.sh<br /><br />I'm sorry, but this was just beyond me complicated for just uninstalling software. Plus, when you see how much garbage this program \\\\\"litters\\\\\" across your Mac in various system and library folders, it's surprising. It's basically a shell script rather than a simple \\\\\"drag and drop\\\\\" interface. Strike three, it's going back.<br /><br />I have finally decided that I am going to get an Apple iPad as a replacement and it is currently on order. The iBook store is just far easier to set up and use--I don't have to go through setting up multiple accounts (one through Sony, one for Adobe) that have to be in perfect sync to unlock the DRM on the books. After putting this Reader and the iPad side by side, I can see why people like the iPad so much.pects you to know Terminal command lines to uninstall this lovely piece of software. I will spare you the details but here is a link to the Sony e-support site that contains the terminal command, albeit with the wrong path. This is taken directly from Sony's website... How to uninstall the Reader(tm) Library in the Apple registered Mac OS registered X operating system. Solution On the main menu, click Go and then click Applications . In the Applications folder, in the right pane, double-click the Utilities folder. In the Utilities folder, double-click Terminal . In the Terminal text window, type the following: sudo /Library/ebookLibrary/uninstall-ReaderLibrary.sh *** NOTE: There is a required space between sudo and / Press ENTER on the keyboard. A confirmation message will appear. Enter your password or leave blank if you do not have a user account password. After a password has been entered or left blank for no password, press ENTER . NOTE: You will receive the message that the Reader Library Uninstall is finished. On the menu, click Terminal and then Quit Terminal to exit the Terminal application. Close all other open windows. NOTE: If the uninstall was done for troubleshooting reasons, you can now reinstall the software. *** - This is the wrong path, Sony has yet to correct it on their website. The correct path is /Library/Reader \\Library/uninstall-ReaderLibrary.sh I'm sorry, but this was just beyond me complicated for just uninstalling software. Plus, when you see how much garbage this program \\\\\"litters\\\\\" across your Mac in various system and library folders, it's surprising. It's basically a shell script rather than a simple \\\\\"drag and drop\\\\\" interface. Strike three, it's going back. I have finally decided that I am going to get an Apple iPad as a replacement and it is currently on order. The iBook store is just far easier to set up and use--I don't have to go through setting up multiple accounts (one through Sony, one for Adobe) that haveto be in perfect sync to unlock the DRM on the books. After putting this Reader and the iPad side by side, I can see why people like the iPad so much.\n"
     ]
    },
    {
     "name": "stdout",
     "output_type": "stream",
     "text": [
      "-----------------------------------\n",
      "Emoji's Found:  {'😊': 'smiling face with smiling eyes'}\n",
      "Original Text:  😊<br />Received as said and in a timely manner\n",
      "\n",
      "\n",
      "Processed Text:   smiling face with smiling eyes <br />Received as said and in a timely manner\n",
      "-----------------------------------\n",
      "Emoji's Found:  {'®': 'registered'}\n",
      "Original Text:  Bought this unit for my wife to carry in her purse, she was using my EC TECHNOLOGY® New Dual USB 13000mAh External Battery Pack Backup Charger Portable Power Bank, (which I reluctantly gave up) but for a purse it was just a little to heavy. Glad to have my unit back I carry sa  back pack and don't motice it. Both unit offer great battery life for their size and battery life ratings.\n",
      "\n",
      "\n",
      "Processed Text:  Bought this unit for my wife to carry in her purse, she was using my EC TECHNOLOGY registered New Dual USB 13000mAh External Battery Pack Backup Charger Portable Power Bank, (which I reluctantly gave up) but for a purse it was just a little to heavy. Glad to have my unit back I carry sa back pack and don't motice it. Both unit offer great battery life for their size and battery life ratings.\n",
      "-----------------------------------\n",
      "Emoji's Found:  {'😒': 'unamused face'}\n",
      "Original Text:  this case was the bomb.com until my ipod got stolen 😒\n",
      "\n",
      "\n",
      "Processed Text:  this case was the bomb.com until my ipod got stolen unamused face \n",
      "-----------------------------------\n"
     ]
    }
   ],
   "source": [
    "import random\n",
    "\n",
    "def has_emoji(text):\n",
    "    return demoji.findall(text) != {}\n",
    "\n",
    "samples = random.sample([i for i in review_universe['review_body'].tolist() if has_emoji(i)], 10)\n",
    "for i in samples:\n",
    "    print (\"Emoji's Found: \", demoji.findall(i))\n",
    "    print (\"Original Text: \", i)\n",
    "    print ('\\n')\n",
    "    print (\"Processed Text: \", process_emojis(i))\n",
    "    print ('-----------------------------------')\n"
   ]
  },
  {
   "cell_type": "markdown",
   "metadata": {},
   "source": [
    "Let's now count the words used by each star review. I'll organize by rating and remove the stop words using NLTK"
   ]
  },
  {
   "cell_type": "code",
   "execution_count": 91,
   "metadata": {},
   "outputs": [
    {
     "name": "stderr",
     "output_type": "stream",
     "text": [
      "[nltk_data] Downloading package stopwords to\n",
      "[nltk_data]     /Users/kmf229/nltk_data...\n",
      "[nltk_data]   Package stopwords is already up-to-date!\n"
     ]
    },
    {
     "data": {
      "text/plain": [
       "True"
      ]
     },
     "execution_count": 91,
     "metadata": {},
     "output_type": "execute_result"
    }
   ],
   "source": [
    "import nltk\n",
    "\n",
    "nltk.download('stopwords')"
   ]
  },
  {
   "cell_type": "code",
   "execution_count": 95,
   "metadata": {},
   "outputs": [],
   "source": [
    "from collections import Counter\n",
    "from nltk.corpus import stopwords\n",
    "\n",
    "stop_words = stopwords.words('english')\n",
    "\n",
    "counter = {'1': Counter(), '2': Counter(), '3': Counter(), '4': Counter(), '5': Counter()}\n",
    "for i in review_universe.values.tolist():\n",
    "    counter[str(int(i[1]))].update([i for i in process_emojis(i[2].lower()).split(' ') if i not in stop_words])"
   ]
  },
  {
   "cell_type": "markdown",
   "metadata": {},
   "source": [
    "### Most common words for a one star rating"
   ]
  },
  {
   "cell_type": "code",
   "execution_count": 96,
   "metadata": {},
   "outputs": [
    {
     "data": {
      "text/plain": [
       "[('', 9035),\n",
       " ('one', 1749),\n",
       " ('would', 1713),\n",
       " ('get', 1480),\n",
       " ('work', 1275),\n",
       " ('product', 1229),\n",
       " ('/><br', 1108),\n",
       " ('even', 1015),\n",
       " ('bought', 949),\n",
       " ('screen', 915)]"
      ]
     },
     "execution_count": 96,
     "metadata": {},
     "output_type": "execute_result"
    }
   ],
   "source": [
    "counter['1'].most_common(10)"
   ]
  },
  {
   "cell_type": "markdown",
   "metadata": {},
   "source": [
    "### Most common words for a five star rating"
   ]
  },
  {
   "cell_type": "code",
   "execution_count": 97,
   "metadata": {},
   "outputs": [
    {
     "data": {
      "text/plain": [
       "[('', 28008),\n",
       " ('great', 6816),\n",
       " ('one', 4570),\n",
       " ('works', 4322),\n",
       " ('/><br', 3827),\n",
       " ('good', 3823),\n",
       " ('use', 3772),\n",
       " ('would', 3626),\n",
       " ('like', 3546),\n",
       " ('product', 3014)]"
      ]
     },
     "execution_count": 97,
     "metadata": {},
     "output_type": "execute_result"
    }
   ],
   "source": [
    "counter['5'].most_common(10)"
   ]
  },
  {
   "cell_type": "markdown",
   "metadata": {},
   "source": [
    "### Takeaways from most common words\n",
    "- clearly need to do more pre-processing to remove blank text and '/><br'\n",
    "- interesting how \"work\" is one of the most popular words in one star ratings, perhaps because reviewers say \"it doesn't work\" while \"works\" is a top word for five star reviews, perhaps because reviewers say \"works great\"\n",
    "- needs more pre-processing like stemming and lemmatization\n",
    "- ngrams would probably be helpful here to get more context\n",
    "\n",
    "Let's try it one more time using 2 word ngrams to see what we get"
   ]
  },
  {
   "cell_type": "code",
   "execution_count": 103,
   "metadata": {},
   "outputs": [],
   "source": [
    "from nltk.util import ngrams\n",
    "\n",
    "stop_words = stopwords.words('english')\n",
    "\n",
    "counter = {'1': Counter(), '2': Counter(), '3': Counter(), '4': Counter(), '5': Counter()}\n",
    "for i in review_universe.values.tolist():\n",
    "    counter[str(int(i[1]))].update(ngrams([i for i in process_emojis(i[2].lower()).split(' ') if i not in stop_words], 2))\n"
   ]
  },
  {
   "cell_type": "markdown",
   "metadata": {},
   "source": [
    "### Most common 2 word ngrams for one star ratings"
   ]
  },
  {
   "cell_type": "code",
   "execution_count": 104,
   "metadata": {},
   "outputs": [
    {
     "data": {
      "text/plain": [
       "[(('', ''), 1229),\n",
       " (('it.', ''), 241),\n",
       " (('stopped', 'working'), 222),\n",
       " (('waste', 'money.'), 202),\n",
       " (('screen', 'protector'), 182),\n",
       " (('get', 'pay'), 181),\n",
       " (('', 'would'), 173),\n",
       " (('/><br', '/>i'), 171),\n",
       " (('waste', 'money'), 153),\n",
       " (('would', 'recommend'), 152)]"
      ]
     },
     "execution_count": 104,
     "metadata": {},
     "output_type": "execute_result"
    }
   ],
   "source": [
    "counter['1'].most_common(10)"
   ]
  },
  {
   "cell_type": "markdown",
   "metadata": {},
   "source": [
    "### Most common 2 word ngrams for five star ratings"
   ]
  },
  {
   "cell_type": "code",
   "execution_count": 105,
   "metadata": {},
   "outputs": [
    {
     "data": {
      "text/plain": [
       "[(('', ''), 3976),\n",
       " (('it.', ''), 671),\n",
       " (('works', 'great'), 658),\n",
       " (('highly', 'recommend'), 615),\n",
       " (('/><br', '/>i'), 606),\n",
       " (('would', 'recommend'), 567),\n",
       " (('sound', 'quality'), 539),\n",
       " (('', 'great'), 489),\n",
       " (('/><br', '/>the'), 477),\n",
       " (('', 'would'), 415)]"
      ]
     },
     "execution_count": 105,
     "metadata": {},
     "output_type": "execute_result"
    }
   ],
   "source": [
    "counter['5'].most_common(10)"
   ]
  },
  {
   "cell_type": "markdown",
   "metadata": {},
   "source": [
    "### Takeaways from most common ngrams\n",
    "- need to remove punctuation\n",
    "- one star ngrams make sense, phrases like \"stopped working\" and \"waste money\" are negative feedback, although interesting how \"would recommend\" made it's way in there, maybe it was \"wouldn't recommend\", might have to look at how to handle contractions\n",
    "- five star ngrams make sense as well, \"works great\" and \"highly recommend\" are clearly positive feedback\n",
    "- maybe a lot of screen protectors are of poor quality?\n",
    "- sound quality seems to be an important attribute for a five star review"
   ]
  }
 ],
 "metadata": {
  "kernelspec": {
   "display_name": "Python 3",
   "language": "python",
   "name": "python3"
  },
  "language_info": {
   "codemirror_mode": {
    "name": "ipython",
    "version": 3
   },
   "file_extension": ".py",
   "mimetype": "text/x-python",
   "name": "python",
   "nbconvert_exporter": "python",
   "pygments_lexer": "ipython3",
   "version": "3.8.3"
  }
 },
 "nbformat": 4,
 "nbformat_minor": 4
}
