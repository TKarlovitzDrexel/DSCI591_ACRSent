{
 "cells": [
  {
   "cell_type": "code",
   "execution_count": 6,
   "metadata": {},
   "outputs": [],
   "source": [
    "import pandas as pd\n",
    "import csv"
   ]
  },
  {
   "cell_type": "code",
   "execution_count": 10,
   "metadata": {},
   "outputs": [],
   "source": [
    "amazon_ranks = pd.read_csv('amazon_bs_20102020.csv')"
   ]
  },
  {
   "cell_type": "code",
   "execution_count": 11,
   "metadata": {},
   "outputs": [
    {
     "data": {
      "text/plain": [
       "(1094, 7)"
      ]
     },
     "execution_count": 11,
     "metadata": {},
     "output_type": "execute_result"
    }
   ],
   "source": [
    "amazon_ranks.shape"
   ]
  },
  {
   "cell_type": "code",
   "execution_count": 12,
   "metadata": {},
   "outputs": [
    {
     "data": {
      "text/html": [
       "<div>\n",
       "<style scoped>\n",
       "    .dataframe tbody tr th:only-of-type {\n",
       "        vertical-align: middle;\n",
       "    }\n",
       "\n",
       "    .dataframe tbody tr th {\n",
       "        vertical-align: top;\n",
       "    }\n",
       "\n",
       "    .dataframe thead th {\n",
       "        text-align: right;\n",
       "    }\n",
       "</style>\n",
       "<table border=\"1\" class=\"dataframe\">\n",
       "  <thead>\n",
       "    <tr style=\"text-align: right;\">\n",
       "      <th></th>\n",
       "      <th>Year</th>\n",
       "      <th>Rank</th>\n",
       "      <th>Book_Title</th>\n",
       "      <th>Author</th>\n",
       "      <th>Rating</th>\n",
       "      <th>Num_Customers_Rated</th>\n",
       "      <th>Price</th>\n",
       "    </tr>\n",
       "  </thead>\n",
       "  <tbody>\n",
       "    <tr>\n",
       "      <th>0</th>\n",
       "      <td>2010</td>\n",
       "      <td>1</td>\n",
       "      <td>The Girl Who Kicked the Hornet's Nest (Millenn...</td>\n",
       "      <td>Stieg Larsson</td>\n",
       "      <td>4.7</td>\n",
       "      <td>8475</td>\n",
       "      <td>17.24</td>\n",
       "    </tr>\n",
       "    <tr>\n",
       "      <th>1</th>\n",
       "      <td>2010</td>\n",
       "      <td>2</td>\n",
       "      <td>The Girl with the Dragon Tattoo (Millennium Se...</td>\n",
       "      <td>Stieg Larsson</td>\n",
       "      <td>4.4</td>\n",
       "      <td>11516</td>\n",
       "      <td>9.99</td>\n",
       "    </tr>\n",
       "    <tr>\n",
       "      <th>2</th>\n",
       "      <td>2010</td>\n",
       "      <td>3</td>\n",
       "      <td>Decision Points</td>\n",
       "      <td>George W. Bush</td>\n",
       "      <td>4.6</td>\n",
       "      <td>2201</td>\n",
       "      <td>17.80</td>\n",
       "    </tr>\n",
       "    <tr>\n",
       "      <th>3</th>\n",
       "      <td>2010</td>\n",
       "      <td>4</td>\n",
       "      <td>The Help</td>\n",
       "      <td>Kathryn Stockett</td>\n",
       "      <td>4.8</td>\n",
       "      <td>14772</td>\n",
       "      <td>14.97</td>\n",
       "    </tr>\n",
       "    <tr>\n",
       "      <th>4</th>\n",
       "      <td>2010</td>\n",
       "      <td>5</td>\n",
       "      <td>The Girl Who Played with Fire (Millennium Series)</td>\n",
       "      <td>Stieg Larsson</td>\n",
       "      <td>4.7</td>\n",
       "      <td>7949</td>\n",
       "      <td>0.02</td>\n",
       "    </tr>\n",
       "  </tbody>\n",
       "</table>\n",
       "</div>"
      ],
      "text/plain": [
       "   Year  Rank                                         Book_Title  \\\n",
       "0  2010     1  The Girl Who Kicked the Hornet's Nest (Millenn...   \n",
       "1  2010     2  The Girl with the Dragon Tattoo (Millennium Se...   \n",
       "2  2010     3                                    Decision Points   \n",
       "3  2010     4                                           The Help   \n",
       "4  2010     5  The Girl Who Played with Fire (Millennium Series)   \n",
       "\n",
       "             Author  Rating  Num_Customers_Rated  Price  \n",
       "0     Stieg Larsson     4.7                 8475  17.24  \n",
       "1     Stieg Larsson     4.4                11516   9.99  \n",
       "2    George W. Bush     4.6                 2201  17.80  \n",
       "3  Kathryn Stockett     4.8                14772  14.97  \n",
       "4     Stieg Larsson     4.7                 7949   0.02  "
      ]
     },
     "execution_count": 12,
     "metadata": {},
     "output_type": "execute_result"
    }
   ],
   "source": [
    "amazon_ranks.head()"
   ]
  },
  {
   "cell_type": "code",
   "execution_count": 13,
   "metadata": {},
   "outputs": [
    {
     "data": {
      "text/plain": [
       "2020    100\n",
       "2019    100\n",
       "2018    100\n",
       "2015    100\n",
       "2014    100\n",
       "2013    100\n",
       "2010    100\n",
       "2017     99\n",
       "2012     99\n",
       "2011     99\n",
       "2016     97\n",
       "Name: Year, dtype: int64"
      ]
     },
     "execution_count": 13,
     "metadata": {},
     "output_type": "execute_result"
    }
   ],
   "source": [
    "amazon_ranks['Year'].value_counts()"
   ]
  },
  {
   "cell_type": "code",
   "execution_count": 14,
   "metadata": {},
   "outputs": [],
   "source": [
    "third_pass = pd.read_csv('3rdpass_cleaned.tsv', sep='\\t', quoting=csv.QUOTE_NONE)"
   ]
  },
  {
   "cell_type": "code",
   "execution_count": 15,
   "metadata": {},
   "outputs": [
    {
     "data": {
      "text/plain": [
       "(2668988, 5)"
      ]
     },
     "execution_count": 15,
     "metadata": {},
     "output_type": "execute_result"
    }
   ],
   "source": [
    "third_pass.shape"
   ]
  },
  {
   "cell_type": "code",
   "execution_count": 16,
   "metadata": {},
   "outputs": [
    {
     "data": {
      "text/html": [
       "<div>\n",
       "<style scoped>\n",
       "    .dataframe tbody tr th:only-of-type {\n",
       "        vertical-align: middle;\n",
       "    }\n",
       "\n",
       "    .dataframe tbody tr th {\n",
       "        vertical-align: top;\n",
       "    }\n",
       "\n",
       "    .dataframe thead th {\n",
       "        text-align: right;\n",
       "    }\n",
       "</style>\n",
       "<table border=\"1\" class=\"dataframe\">\n",
       "  <thead>\n",
       "    <tr style=\"text-align: right;\">\n",
       "      <th></th>\n",
       "      <th>Title</th>\n",
       "      <th>Star_Rating</th>\n",
       "      <th>Total_Votes</th>\n",
       "      <th>Review_Body</th>\n",
       "      <th>Review_Date</th>\n",
       "    </tr>\n",
       "  </thead>\n",
       "  <tbody>\n",
       "    <tr>\n",
       "      <th>0</th>\n",
       "      <td>The Book of Life (All Souls)</td>\n",
       "      <td>5</td>\n",
       "      <td>0</td>\n",
       "      <td>Love Deborah Harness's Trilogy!  Didn't want t...</td>\n",
       "      <td>2015-08-31</td>\n",
       "    </tr>\n",
       "    <tr>\n",
       "      <th>1</th>\n",
       "      <td>CompTIA A+ Certification All-in-One Exam Guide...</td>\n",
       "      <td>5</td>\n",
       "      <td>0</td>\n",
       "      <td>Bought this book for my boyfriend. He said it ...</td>\n",
       "      <td>2015-08-31</td>\n",
       "    </tr>\n",
       "    <tr>\n",
       "      <th>2</th>\n",
       "      <td>The Encyclopedia of Infant and Toddlers Activi...</td>\n",
       "      <td>5</td>\n",
       "      <td>0</td>\n",
       "      <td>Excellent resource.</td>\n",
       "      <td>2015-08-31</td>\n",
       "    </tr>\n",
       "    <tr>\n",
       "      <th>3</th>\n",
       "      <td>Pearson Reviews &amp; Rationales: Medical-Surgical...</td>\n",
       "      <td>5</td>\n",
       "      <td>0</td>\n",
       "      <td>This was very helpful for my Med-Surg class! I...</td>\n",
       "      <td>2015-08-31</td>\n",
       "    </tr>\n",
       "    <tr>\n",
       "      <th>4</th>\n",
       "      <td>Forming Intentional Disciples: The Path to Kno...</td>\n",
       "      <td>5</td>\n",
       "      <td>0</td>\n",
       "      <td>This book inspired me not to nly looke at my o...</td>\n",
       "      <td>2015-08-31</td>\n",
       "    </tr>\n",
       "  </tbody>\n",
       "</table>\n",
       "</div>"
      ],
      "text/plain": [
       "                                               Title  Star_Rating  \\\n",
       "0                       The Book of Life (All Souls)            5   \n",
       "1  CompTIA A+ Certification All-in-One Exam Guide...            5   \n",
       "2  The Encyclopedia of Infant and Toddlers Activi...            5   \n",
       "3  Pearson Reviews & Rationales: Medical-Surgical...            5   \n",
       "4  Forming Intentional Disciples: The Path to Kno...            5   \n",
       "\n",
       "   Total_Votes                                        Review_Body Review_Date  \n",
       "0            0  Love Deborah Harness's Trilogy!  Didn't want t...  2015-08-31  \n",
       "1            0  Bought this book for my boyfriend. He said it ...  2015-08-31  \n",
       "2            0                                Excellent resource.  2015-08-31  \n",
       "3            0  This was very helpful for my Med-Surg class! I...  2015-08-31  \n",
       "4            0  This book inspired me not to nly looke at my o...  2015-08-31  "
      ]
     },
     "execution_count": 16,
     "metadata": {},
     "output_type": "execute_result"
    }
   ],
   "source": [
    "third_pass.head()"
   ]
  },
  {
   "cell_type": "code",
   "execution_count": 18,
   "metadata": {},
   "outputs": [],
   "source": [
    "# not quite the right merge. years matter\n",
    "# Also we only really want to look at the first say 30 reviews on a book that makes the top 100\n",
    "# because we want to try to decide based on the EARLY reviews if it will make the top 100 (end goal)\n",
    "book_merged = third_pass.merge(amazon_ranks, how='left', left_on='Title', right_on='Book_Title')"
   ]
  },
  {
   "cell_type": "code",
   "execution_count": 21,
   "metadata": {},
   "outputs": [
    {
     "data": {
      "text/html": [
       "<div>\n",
       "<style scoped>\n",
       "    .dataframe tbody tr th:only-of-type {\n",
       "        vertical-align: middle;\n",
       "    }\n",
       "\n",
       "    .dataframe tbody tr th {\n",
       "        vertical-align: top;\n",
       "    }\n",
       "\n",
       "    .dataframe thead th {\n",
       "        text-align: right;\n",
       "    }\n",
       "</style>\n",
       "<table border=\"1\" class=\"dataframe\">\n",
       "  <thead>\n",
       "    <tr style=\"text-align: right;\">\n",
       "      <th></th>\n",
       "      <th>Title</th>\n",
       "      <th>Star_Rating</th>\n",
       "      <th>Total_Votes</th>\n",
       "      <th>Review_Body</th>\n",
       "      <th>Review_Date</th>\n",
       "      <th>Year</th>\n",
       "      <th>Rank</th>\n",
       "      <th>Book_Title</th>\n",
       "      <th>Author</th>\n",
       "      <th>Rating</th>\n",
       "      <th>Num_Customers_Rated</th>\n",
       "      <th>Price</th>\n",
       "    </tr>\n",
       "  </thead>\n",
       "  <tbody>\n",
       "    <tr>\n",
       "      <th>0</th>\n",
       "      <td>The Book of Life (All Souls)</td>\n",
       "      <td>5</td>\n",
       "      <td>0</td>\n",
       "      <td>Love Deborah Harness's Trilogy!  Didn't want t...</td>\n",
       "      <td>2015-08-31</td>\n",
       "      <td>NaN</td>\n",
       "      <td>NaN</td>\n",
       "      <td>NaN</td>\n",
       "      <td>NaN</td>\n",
       "      <td>NaN</td>\n",
       "      <td>NaN</td>\n",
       "      <td>NaN</td>\n",
       "    </tr>\n",
       "    <tr>\n",
       "      <th>1</th>\n",
       "      <td>CompTIA A+ Certification All-in-One Exam Guide...</td>\n",
       "      <td>5</td>\n",
       "      <td>0</td>\n",
       "      <td>Bought this book for my boyfriend. He said it ...</td>\n",
       "      <td>2015-08-31</td>\n",
       "      <td>NaN</td>\n",
       "      <td>NaN</td>\n",
       "      <td>NaN</td>\n",
       "      <td>NaN</td>\n",
       "      <td>NaN</td>\n",
       "      <td>NaN</td>\n",
       "      <td>NaN</td>\n",
       "    </tr>\n",
       "    <tr>\n",
       "      <th>2</th>\n",
       "      <td>The Encyclopedia of Infant and Toddlers Activi...</td>\n",
       "      <td>5</td>\n",
       "      <td>0</td>\n",
       "      <td>Excellent resource.</td>\n",
       "      <td>2015-08-31</td>\n",
       "      <td>NaN</td>\n",
       "      <td>NaN</td>\n",
       "      <td>NaN</td>\n",
       "      <td>NaN</td>\n",
       "      <td>NaN</td>\n",
       "      <td>NaN</td>\n",
       "      <td>NaN</td>\n",
       "    </tr>\n",
       "    <tr>\n",
       "      <th>3</th>\n",
       "      <td>Pearson Reviews &amp; Rationales: Medical-Surgical...</td>\n",
       "      <td>5</td>\n",
       "      <td>0</td>\n",
       "      <td>This was very helpful for my Med-Surg class! I...</td>\n",
       "      <td>2015-08-31</td>\n",
       "      <td>NaN</td>\n",
       "      <td>NaN</td>\n",
       "      <td>NaN</td>\n",
       "      <td>NaN</td>\n",
       "      <td>NaN</td>\n",
       "      <td>NaN</td>\n",
       "      <td>NaN</td>\n",
       "    </tr>\n",
       "    <tr>\n",
       "      <th>4</th>\n",
       "      <td>Forming Intentional Disciples: The Path to Kno...</td>\n",
       "      <td>5</td>\n",
       "      <td>0</td>\n",
       "      <td>This book inspired me not to nly looke at my o...</td>\n",
       "      <td>2015-08-31</td>\n",
       "      <td>NaN</td>\n",
       "      <td>NaN</td>\n",
       "      <td>NaN</td>\n",
       "      <td>NaN</td>\n",
       "      <td>NaN</td>\n",
       "      <td>NaN</td>\n",
       "      <td>NaN</td>\n",
       "    </tr>\n",
       "  </tbody>\n",
       "</table>\n",
       "</div>"
      ],
      "text/plain": [
       "                                               Title  Star_Rating  \\\n",
       "0                       The Book of Life (All Souls)            5   \n",
       "1  CompTIA A+ Certification All-in-One Exam Guide...            5   \n",
       "2  The Encyclopedia of Infant and Toddlers Activi...            5   \n",
       "3  Pearson Reviews & Rationales: Medical-Surgical...            5   \n",
       "4  Forming Intentional Disciples: The Path to Kno...            5   \n",
       "\n",
       "   Total_Votes                                        Review_Body Review_Date  \\\n",
       "0            0  Love Deborah Harness's Trilogy!  Didn't want t...  2015-08-31   \n",
       "1            0  Bought this book for my boyfriend. He said it ...  2015-08-31   \n",
       "2            0                                Excellent resource.  2015-08-31   \n",
       "3            0  This was very helpful for my Med-Surg class! I...  2015-08-31   \n",
       "4            0  This book inspired me not to nly looke at my o...  2015-08-31   \n",
       "\n",
       "   Year  Rank Book_Title Author  Rating  Num_Customers_Rated  Price  \n",
       "0   NaN   NaN        NaN    NaN     NaN                  NaN    NaN  \n",
       "1   NaN   NaN        NaN    NaN     NaN                  NaN    NaN  \n",
       "2   NaN   NaN        NaN    NaN     NaN                  NaN    NaN  \n",
       "3   NaN   NaN        NaN    NaN     NaN                  NaN    NaN  \n",
       "4   NaN   NaN        NaN    NaN     NaN                  NaN    NaN  "
      ]
     },
     "execution_count": 21,
     "metadata": {},
     "output_type": "execute_result"
    }
   ],
   "source": [
    "book_merged.head()"
   ]
  },
  {
   "cell_type": "code",
   "execution_count": null,
   "metadata": {},
   "outputs": [],
   "source": []
  }
 ],
 "metadata": {
  "kernelspec": {
   "display_name": "Python 3",
   "language": "python",
   "name": "python3"
  },
  "language_info": {
   "codemirror_mode": {
    "name": "ipython",
    "version": 3
   },
   "file_extension": ".py",
   "mimetype": "text/x-python",
   "name": "python",
   "nbconvert_exporter": "python",
   "pygments_lexer": "ipython3",
   "version": "3.8.3"
  }
 },
 "nbformat": 4,
 "nbformat_minor": 4
}
